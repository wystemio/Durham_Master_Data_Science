{
 "cells": [
  {
   "cell_type": "markdown",
   "metadata": {},
   "source": [
    "# Text Mining and Language Analytics\n"
   ]
  },
  {
   "attachments": {},
   "cell_type": "markdown",
   "metadata": {},
   "source": [
    "## 1. Loading and preparing data."
   ]
  },
  {
   "attachments": {},
   "cell_type": "markdown",
   "metadata": {},
   "source": [
    "### 1.1. Loading data"
   ]
  },
  {
   "cell_type": "code",
   "execution_count": 1,
   "metadata": {},
   "outputs": [
    {
     "data": {
      "text/html": [
       "<div>\n",
       "<style scoped>\n",
       "    .dataframe tbody tr th:only-of-type {\n",
       "        vertical-align: middle;\n",
       "    }\n",
       "\n",
       "    .dataframe tbody tr th {\n",
       "        vertical-align: top;\n",
       "    }\n",
       "\n",
       "    .dataframe thead th {\n",
       "        text-align: right;\n",
       "    }\n",
       "</style>\n",
       "<table border=\"1\" class=\"dataframe\">\n",
       "  <thead>\n",
       "    <tr style=\"text-align: right;\">\n",
       "      <th></th>\n",
       "      <th>id</th>\n",
       "      <th>title</th>\n",
       "      <th>author</th>\n",
       "      <th>text</th>\n",
       "      <th>label</th>\n",
       "    </tr>\n",
       "  </thead>\n",
       "  <tbody>\n",
       "    <tr>\n",
       "      <th>0</th>\n",
       "      <td>0</td>\n",
       "      <td>House Dem Aide: We Didn’t Even See Comey’s Let...</td>\n",
       "      <td>Darrell Lucus</td>\n",
       "      <td>House Dem Aide: We Didn’t Even See Comey’s Let...</td>\n",
       "      <td>1</td>\n",
       "    </tr>\n",
       "    <tr>\n",
       "      <th>1</th>\n",
       "      <td>1</td>\n",
       "      <td>FLYNN: Hillary Clinton, Big Woman on Campus - ...</td>\n",
       "      <td>Daniel J. Flynn</td>\n",
       "      <td>Ever get the feeling your life circles the rou...</td>\n",
       "      <td>0</td>\n",
       "    </tr>\n",
       "    <tr>\n",
       "      <th>2</th>\n",
       "      <td>2</td>\n",
       "      <td>Why the Truth Might Get You Fired</td>\n",
       "      <td>Consortiumnews.com</td>\n",
       "      <td>Why the Truth Might Get You Fired October 29, ...</td>\n",
       "      <td>1</td>\n",
       "    </tr>\n",
       "    <tr>\n",
       "      <th>3</th>\n",
       "      <td>3</td>\n",
       "      <td>15 Civilians Killed In Single US Airstrike Hav...</td>\n",
       "      <td>Jessica Purkiss</td>\n",
       "      <td>Videos 15 Civilians Killed In Single US Airstr...</td>\n",
       "      <td>1</td>\n",
       "    </tr>\n",
       "    <tr>\n",
       "      <th>4</th>\n",
       "      <td>4</td>\n",
       "      <td>Iranian woman jailed for fictional unpublished...</td>\n",
       "      <td>Howard Portnoy</td>\n",
       "      <td>Print \\nAn Iranian woman has been sentenced to...</td>\n",
       "      <td>1</td>\n",
       "    </tr>\n",
       "  </tbody>\n",
       "</table>\n",
       "</div>"
      ],
      "text/plain": [
       "   id                                              title              author  \\\n",
       "0   0  House Dem Aide: We Didn’t Even See Comey’s Let...       Darrell Lucus   \n",
       "1   1  FLYNN: Hillary Clinton, Big Woman on Campus - ...     Daniel J. Flynn   \n",
       "2   2                  Why the Truth Might Get You Fired  Consortiumnews.com   \n",
       "3   3  15 Civilians Killed In Single US Airstrike Hav...     Jessica Purkiss   \n",
       "4   4  Iranian woman jailed for fictional unpublished...      Howard Portnoy   \n",
       "\n",
       "                                                text  label  \n",
       "0  House Dem Aide: We Didn’t Even See Comey’s Let...      1  \n",
       "1  Ever get the feeling your life circles the rou...      0  \n",
       "2  Why the Truth Might Get You Fired October 29, ...      1  \n",
       "3  Videos 15 Civilians Killed In Single US Airstr...      1  \n",
       "4  Print \\nAn Iranian woman has been sentenced to...      1  "
      ]
     },
     "execution_count": 1,
     "metadata": {},
     "output_type": "execute_result"
    }
   ],
   "source": [
    "import pandas as pd\n",
    "df = pd.read_csv(\"fake_news_dataset.csv\")\n",
    "df.head(5)\n"
   ]
  },
  {
   "cell_type": "code",
   "execution_count": 2,
   "metadata": {},
   "outputs": [
    {
     "name": "stdout",
     "output_type": "stream",
     "text": [
      "The dataframe has 20800 rows and 5 columns\n",
      "\n",
      "Number of reliable news: \t10387,49.94%\n",
      "\n",
      "Number of unreliable news:\t 10413,50.06%\n",
      "\n",
      "id           0\n",
      "title      558\n",
      "author    1957\n",
      "text        39\n",
      "label        0\n",
      "dtype: int64\n"
     ]
    }
   ],
   "source": [
    "num_rows, num_cols = df.shape\n",
    "\n",
    "print(f\"The dataframe has {num_rows} rows and {num_cols} columns\",end='\\n\\n')\n",
    "print(f\"Number of reliable news: \\t{sum(df['label'] == 0)},{(sum(df['label'] == 0))/num_rows * 100:.2f}%\",end='\\n\\n')\n",
    "print(f\"Number of unreliable news:\\t {sum(df['label'] == 1)},{(sum(df['label'] == 1))/num_rows * 100:.2f}%\",end='\\n\\n')\n",
    "print(df.isna().sum())"
   ]
  },
  {
   "cell_type": "code",
   "execution_count": 3,
   "metadata": {},
   "outputs": [
    {
     "data": {
      "text/html": [
       "<div>\n",
       "<style scoped>\n",
       "    .dataframe tbody tr th:only-of-type {\n",
       "        vertical-align: middle;\n",
       "    }\n",
       "\n",
       "    .dataframe tbody tr th {\n",
       "        vertical-align: top;\n",
       "    }\n",
       "\n",
       "    .dataframe thead th {\n",
       "        text-align: right;\n",
       "    }\n",
       "</style>\n",
       "<table border=\"1\" class=\"dataframe\">\n",
       "  <thead>\n",
       "    <tr style=\"text-align: right;\">\n",
       "      <th></th>\n",
       "      <th>alltext</th>\n",
       "      <th>label</th>\n",
       "    </tr>\n",
       "  </thead>\n",
       "  <tbody>\n",
       "    <tr>\n",
       "      <th>0</th>\n",
       "      <td>House Dem Aide: We Didn’t Even See Comey’s Let...</td>\n",
       "      <td>1</td>\n",
       "    </tr>\n",
       "    <tr>\n",
       "      <th>1</th>\n",
       "      <td>FLYNN: Hillary Clinton, Big Woman on Campus - ...</td>\n",
       "      <td>0</td>\n",
       "    </tr>\n",
       "    <tr>\n",
       "      <th>2</th>\n",
       "      <td>Why the Truth Might Get You Fired. Why the Tru...</td>\n",
       "      <td>1</td>\n",
       "    </tr>\n",
       "    <tr>\n",
       "      <th>3</th>\n",
       "      <td>15 Civilians Killed In Single US Airstrike Hav...</td>\n",
       "      <td>1</td>\n",
       "    </tr>\n",
       "    <tr>\n",
       "      <th>4</th>\n",
       "      <td>Iranian woman jailed for fictional unpublished...</td>\n",
       "      <td>1</td>\n",
       "    </tr>\n",
       "  </tbody>\n",
       "</table>\n",
       "</div>"
      ],
      "text/plain": [
       "                                             alltext  label\n",
       "0  House Dem Aide: We Didn’t Even See Comey’s Let...      1\n",
       "1  FLYNN: Hillary Clinton, Big Woman on Campus - ...      0\n",
       "2  Why the Truth Might Get You Fired. Why the Tru...      1\n",
       "3  15 Civilians Killed In Single US Airstrike Hav...      1\n",
       "4  Iranian woman jailed for fictional unpublished...      1"
      ]
     },
     "execution_count": 3,
     "metadata": {},
     "output_type": "execute_result"
    }
   ],
   "source": [
    "df['alltext'] = df['title'] + '. ' + df['text'] # Concatenate title and text into column alltext\n",
    "df = df.reindex(columns=['alltext','label']) # Transform the dataset to contain only the label and alltext columns\n",
    "df.head(5) # Show first 5 rows in dataset"
   ]
  },
  {
   "cell_type": "code",
   "execution_count": 4,
   "metadata": {},
   "outputs": [
    {
     "name": "stdout",
     "output_type": "stream",
     "text": [
      "alltext    597\n",
      "label        0\n",
      "dtype: int64\n",
      "\n",
      "alltext    0\n",
      "label      0\n",
      "dtype: int64\n"
     ]
    }
   ],
   "source": [
    "df.drop(df[df.alltext.str.len() < 50].index, inplace=True) # Remove texts that are less than 50 characters long \n",
    "print(df.isna().sum(), end=\"\\n\\n\")\n",
    "df.dropna(inplace=True)\n",
    "print(df.isna().sum())"
   ]
  },
  {
   "cell_type": "code",
   "execution_count": 5,
   "metadata": {},
   "outputs": [
    {
     "name": "stdout",
     "output_type": "stream",
     "text": [
      "Total news: 20185\n",
      "Total labels: 20185\n"
     ]
    }
   ],
   "source": [
    "alltexts = df['alltext'].tolist()\n",
    "labels = df['label'].tolist() # The reliability label of the article (0-reliable, 1-unreliable)\n",
    "\n",
    "print('Total news:', len(alltexts))\n",
    "print('Total labels:', len(labels))"
   ]
  },
  {
   "attachments": {},
   "cell_type": "markdown",
   "metadata": {},
   "source": [
    "### 1.2. Word tokenisation\n"
   ]
  },
  {
   "cell_type": "code",
   "execution_count": 6,
   "metadata": {},
   "outputs": [
    {
     "name": "stdout",
     "output_type": "stream",
     "text": [
      "Tokenising news...[DONE]\n",
      "\n",
      "Total news: 20185\n",
      "Total labels: 20185\n",
      "['house', 'dem', 'aide', ':', 'we', 'didn', '’', 't', 'even', 'see', 'comey', '’', 's', 'letter', 'until', 'jason', 'chaffetz', 'tweeted', 'it', '.', 'house', 'dem', 'aide', ':', 'we', 'didn', '’', 't', 'even', 'see', 'comey', '’', 's', 'letter', 'until', 'jason', 'chaffetz', 'tweeted', 'it', 'by', 'darrell', 'lucus', 'on', 'october', '30', ',', '2016', 'subscribe', 'jason', 'chaffetz', 'on', 'the', 'stump', 'in', 'american', 'fork', ',', 'utah', '(', 'image', 'courtesy', 'michael', 'jolley', ',', 'available', 'under', 'a', 'creative', 'commons-by', 'license', ')', 'with', 'apologies', 'to', 'keith', 'olbermann', ',', 'there', 'is', 'no', 'doubt', 'who', 'the', 'worst', 'person', 'in', 'the', 'world', 'is', 'this', 'week–fbi', 'director', 'james', 'comey', '.', 'but', 'according', 'to', 'a', 'house', 'democratic', 'aide', ',', 'it', 'looks', 'like', 'we', 'also', 'know', 'who', 'the', 'second-worst', 'person', 'is', 'as', 'well', '.', 'it', 'turns', 'out', 'that', 'when', 'comey', 'sent', 'his', 'now-infamous', 'letter', 'announcing', 'that', 'the', 'fbi', 'was', 'looking', 'into', 'emails', 'that', 'may', 'be', 'related', 'to', 'hillary', 'clinton', '’', 's', 'email', 'server', ',', 'the', 'ranking', 'democrats', 'on', 'the', 'relevant', 'committees', 'didn', '’', 't', 'hear', 'about', 'it', 'from', 'comey', '.', 'they', 'found', 'out', 'via', 'a', 'tweet', 'from', 'one', 'of', 'the', 'republican', 'committee', 'chairmen', '.', 'as', 'we', 'now', 'know', ',', 'comey', 'notified', 'the', 'republican', 'chairmen', 'and', 'democratic', 'ranking', 'members', 'of', 'the', 'house', 'intelligence', ',', 'judiciary', ',', 'and', 'oversight', 'committees', 'that', 'his', 'agency', 'was', 'reviewing', 'emails', 'it', 'had', 'recently', 'discovered', 'in', 'order', 'to', 'see', 'if', 'they', 'contained', 'classified', 'information', '.', 'not', 'long', 'after', 'this', 'letter', 'went', 'out', ',', 'oversight', 'committee', 'chairman', 'jason', 'chaffetz', 'set', 'the', 'political', 'world', 'ablaze', 'with', 'this', 'tweet', '.', 'fbi', 'dir', 'just', 'informed', 'me', ',', '``', 'the', 'fbi', 'has', 'learned', 'of', 'the', 'existence', 'of', 'emails', 'that', 'appear', 'to', 'be', 'pertinent', 'to', 'the', 'investigation', '.', \"''\", 'case', 'reopened', '—', 'jason', 'chaffetz', '(', '@', 'jasoninthehouse', ')', 'october', '28', ',', '2016', 'of', 'course', ',', 'we', 'now', 'know', 'that', 'this', 'was', 'not', 'the', 'case', '.', 'comey', 'was', 'actually', 'saying', 'that', 'it', 'was', 'reviewing', 'the', 'emails', 'in', 'light', 'of', '“', 'an', 'unrelated', 'case', '”', '–which', 'we', 'now', 'know', 'to', 'be', 'anthony', 'weiner', '’', 's', 'sexting', 'with', 'a', 'teenager', '.', 'but', 'apparently', 'such', 'little', 'things', 'as', 'facts', 'didn', '’', 't', 'matter', 'to', 'chaffetz', '.', 'the', 'utah', 'republican', 'had', 'already', 'vowed', 'to', 'initiate', 'a', 'raft', 'of', 'investigations', 'if', 'hillary', 'wins–at', 'least', 'two', 'years', '’', 'worth', ',', 'and', 'possibly', 'an', 'entire', 'term', '’', 's', 'worth', 'of', 'them', '.', 'apparently', 'chaffetz', 'thought', 'the', 'fbi', 'was', 'already', 'doing', 'his', 'work', 'for', 'him–resulting', 'in', 'a', 'tweet', 'that', 'briefly', 'roiled', 'the', 'nation', 'before', 'cooler', 'heads', 'realized', 'it', 'was', 'a', 'dud', '.', 'but', 'according', 'to', 'a', 'senior', 'house', 'democratic', 'aide', ',', 'misreading', 'that', 'letter', 'may', 'have', 'been', 'the', 'least', 'of', 'chaffetz', '’', 'sins', '.', 'that', 'aide', 'told', 'shareblue', 'that', 'his', 'boss', 'and', 'other', 'democrats', 'didn', '’', 't', 'even', 'know', 'about', 'comey', '’', 's', 'letter', 'at', 'the', 'time–and', 'only', 'found', 'out', 'when', 'they', 'checked', 'twitter', '.', '“', 'democratic', 'ranking', 'members', 'on', 'the', 'relevant', 'committees', 'didn', '’', 't', 'receive', 'comey', '’', 's', 'letter', 'until', 'after', 'the', 'republican', 'chairmen', '.', 'in', 'fact', ',', 'the', 'democratic', 'ranking', 'members', 'didn', '’', 'receive', 'it', 'until', 'after', 'the', 'chairman', 'of', 'the', 'oversight', 'and', 'government', 'reform', 'committee', ',', 'jason', 'chaffetz', ',', 'tweeted', 'it', 'out', 'and', 'made', 'it', 'public.', '”', 'so', 'let', '’', 's', 'see', 'if', 'we', '’', 've', 'got', 'this', 'right', '.', 'the', 'fbi', 'director', 'tells', 'chaffetz', 'and', 'other', 'gop', 'committee', 'chairmen', 'about', 'a', 'major', 'development', 'in', 'a', 'potentially', 'politically', 'explosive', 'investigation', ',', 'and', 'neither', 'chaffetz', 'nor', 'his', 'other', 'colleagues', 'had', 'the', 'courtesy', 'to', 'let', 'their', 'democratic', 'counterparts', 'know', 'about', 'it', '.', 'instead', ',', 'according', 'to', 'this', 'aide', ',', 'he', 'made', 'them', 'find', 'out', 'about', 'it', 'on', 'twitter', '.', 'there', 'has', 'already', 'been', 'talk', 'on', 'daily', 'kos', 'that', 'comey', 'himself', 'provided', 'advance', 'notice', 'of', 'this', 'letter', 'to', 'chaffetz', 'and', 'other', 'republicans', ',', 'giving', 'them', 'time', 'to', 'turn', 'on', 'the', 'spin', 'machine', '.', 'that', 'may', 'make', 'for', 'good', 'theater', ',', 'but', 'there', 'is', 'nothing', 'so', 'far', 'that', 'even', 'suggests', 'this', 'is', 'the', 'case', '.', 'after', 'all', ',', 'there', 'is', 'nothing', 'so', 'far', 'that', 'suggests', 'that', 'comey', 'was', 'anything', 'other', 'than', 'grossly', 'incompetent', 'and', 'tone-deaf', '.', 'what', 'it', 'does', 'suggest', ',', 'however', ',', 'is', 'that', 'chaffetz', 'is', 'acting', 'in', 'a', 'way', 'that', 'makes', 'dan', 'burton', 'and', 'darrell', 'issa', 'look', 'like', 'models', 'of', 'responsibility', 'and', 'bipartisanship', '.', 'he', 'didn', '’', 't', 'even', 'have', 'the', 'decency', 'to', 'notify', 'ranking', 'member', 'elijah', 'cummings', 'about', 'something', 'this', 'explosive', '.', 'if', 'that', 'doesn', '’', 't', 'trample', 'on', 'basic', 'standards', 'of', 'fairness', ',', 'i', 'don', '’', 't', 'know', 'what', 'does', '.', 'granted', ',', 'it', '’', 's', 'not', 'likely', 'that', 'chaffetz', 'will', 'have', 'to', 'answer', 'for', 'this', '.', 'he', 'sits', 'in', 'a', 'ridiculously', 'republican', 'district', 'anchored', 'in', 'provo', 'and', 'orem', ';', 'it', 'has', 'a', 'cook', 'partisan', 'voting', 'index', 'of', 'r+25', ',', 'and', 'gave', 'mitt', 'romney', 'a', 'punishing', '78', 'percent', 'of', 'the', 'vote', 'in', '2012.', 'moreover', ',', 'the', 'republican', 'house', 'leadership', 'has', 'given', 'its', 'full', 'support', 'to', 'chaffetz', '’', 'planned', 'fishing', 'expedition', '.', 'but', 'that', 'doesn', '’', 't', 'mean', 'we', 'can', '’', 't', 'turn', 'the', 'hot', 'lights', 'on', 'him', '.', 'after', 'all', ',', 'he', 'is', 'a', 'textbook', 'example', 'of', 'what', 'the', 'house', 'has', 'become', 'under', 'republican', 'control', '.', 'and', 'he', 'is', 'also', 'the', 'second', 'worst', 'person', 'in', 'the', 'world', '.', 'about', 'darrell', 'lucus', 'darrell', 'is', 'a', '30-something', 'graduate', 'of', 'the', 'university', 'of', 'north', 'carolina', 'who', 'considers', 'himself', 'a', 'journalist', 'of', 'the', 'old', 'school', '.', 'an', 'attempt', 'to', 'turn', 'him', 'into', 'a', 'member', 'of', 'the', 'religious', 'right', 'in', 'college', 'only', 'succeeded', 'in', 'turning', 'him', 'into', 'the', 'religious', 'right', \"'s\", 'worst', 'nightmare', '--', 'a', 'charismatic', 'christian', 'who', 'is', 'an', 'unapologetic', 'liberal', '.', 'his', 'desire', 'to', 'stand', 'up', 'for', 'those', 'who', 'have', 'been', 'scared', 'into', 'silence', 'only', 'increased', 'when', 'he', 'survived', 'an', 'abusive', 'three-year', 'marriage', '.', 'you', 'may', 'know', 'him', 'on', 'daily', 'kos', 'as', 'christian', 'dem', 'in', 'nc', '.', 'follow', 'him', 'on', 'twitter', '@', 'darrelllucus', 'or', 'connect', 'with', 'him', 'on', 'facebook', '.', 'click', 'here', 'to', 'buy', 'darrell', 'a', 'mello', 'yello', '.', 'connect']\n"
     ]
    }
   ],
   "source": [
    "from nltk import word_tokenize\n",
    "\n",
    "alltexts_tokenised = []\n",
    "labels_final = []\n",
    "\n",
    "print('Tokenising news...', end='')\n",
    "for i in range(len(alltexts)):\n",
    "    try:\n",
    "        tokens = word_tokenize(alltexts[i].lower()) # Tokenise news\n",
    "        alltexts_tokenised.append(tokens) # Add news tokens to list \n",
    "        labels_final.append(labels[i]) # Add label for news to labels list\n",
    "    except:\n",
    "        pass\n",
    "print('[DONE]\\n')\n",
    "\n",
    "print('Total news:', len(alltexts_tokenised))\n",
    "print('Total labels:', len(labels_final))\n",
    "\n",
    "print(alltexts_tokenised[0]) # Print first news\n",
    "\n",
    "# how to process words like \"didn't\" and \"Mary's\"?\n"
   ]
  },
  {
   "attachments": {},
   "cell_type": "markdown",
   "metadata": {},
   "source": [
    "### 1.3. Pre-processing"
   ]
  },
  {
   "cell_type": "code",
   "execution_count": 7,
   "metadata": {},
   "outputs": [
    {
     "name": "stdout",
     "output_type": "stream",
     "text": [
      "Preprocessing news...[DONE]\n",
      "\n",
      "['house', 'dem', 'aide', 'we', 'didn', 't', 'even', 'see', 'comey', 's', 'letter', 'until', 'jason', 'chaffetz', 'tweeted', 'it', 'house', 'dem', 'aide', 'we', 'didn', 't', 'even', 'see', 'comey', 's', 'letter', 'until', 'jason', 'chaffetz', 'tweeted', 'it', 'by', 'darrell', 'lucus', 'on', 'october', 'subscribe', 'jason', 'chaffetz', 'on', 'the', 'stump', 'in', 'american', 'fork', 'utah', 'image', 'courtesy', 'michael', 'jolley', 'available', 'under', 'a', 'creative', 'commonsby', 'license', 'with', 'apologies', 'to', 'keith', 'olbermann', 'there', 'is', 'no', 'doubt', 'who', 'the', 'worst', 'person', 'in', 'the', 'world', 'is', 'this', 'director', 'james', 'comey', 'but', 'according', 'to', 'a', 'house', 'democratic', 'aide', 'it', 'looks', 'like', 'we', 'also', 'know', 'who', 'the', 'secondworst', 'person', 'is', 'as', 'well', 'it', 'turns', 'out', 'that', 'when', 'comey', 'sent', 'his', 'nowinfamous', 'letter', 'announcing', 'that', 'the', 'fbi', 'was', 'looking', 'into', 'emails', 'that', 'may', 'be', 'related', 'to', 'hillary', 'clinton', 's', 'email', 'server', 'the', 'ranking', 'democrats', 'on', 'the', 'relevant', 'committees', 'didn', 't', 'hear', 'about', 'it', 'from', 'comey', 'they', 'found', 'out', 'via', 'a', 'tweet', 'from', 'one', 'of', 'the', 'republican', 'committee', 'chairmen', 'as', 'we', 'now', 'know', 'comey', 'notified', 'the', 'republican', 'chairmen', 'and', 'democratic', 'ranking', 'members', 'of', 'the', 'house', 'intelligence', 'judiciary', 'and', 'oversight', 'committees', 'that', 'his', 'agency', 'was', 'reviewing', 'emails', 'it', 'had', 'recently', 'discovered', 'in', 'order', 'to', 'see', 'if', 'they', 'contained', 'classified', 'information', 'not', 'long', 'after', 'this', 'letter', 'went', 'out', 'oversight', 'committee', 'chairman', 'jason', 'chaffetz', 'set', 'the', 'political', 'world', 'ablaze', 'with', 'this', 'tweet', 'fbi', 'dir', 'just', 'informed', 'me', 'the', 'fbi', 'has', 'learned', 'of', 'the', 'existence', 'of', 'emails', 'that', 'appear', 'to', 'be', 'pertinent', 'to', 'the', 'investigation', 'case', 'reopened', 'jason', 'chaffetz', 'jasoninthehouse', 'october', 'of', 'course', 'we', 'now', 'know', 'that', 'this', 'was', 'not', 'the', 'case', 'comey', 'was', 'actually', 'saying', 'that', 'it', 'was', 'reviewing', 'the', 'emails', 'in', 'light', 'of', 'an', 'unrelated', 'case', 'we', 'now', 'know', 'to', 'be', 'anthony', 'weiner', 's', 'sexting', 'with', 'a', 'teenager', 'but', 'apparently', 'such', 'little', 'things', 'as', 'facts', 'didn', 't', 'matter', 'to', 'chaffetz', 'the', 'utah', 'republican', 'had', 'already', 'vowed', 'to', 'initiate', 'a', 'raft', 'of', 'investigations', 'if', 'hillary', 'least', 'two', 'years', 'worth', 'and', 'possibly', 'an', 'entire', 'term', 's', 'worth', 'of', 'them', 'apparently', 'chaffetz', 'thought', 'the', 'fbi', 'was', 'already', 'doing', 'his', 'work', 'for', 'in', 'a', 'tweet', 'that', 'briefly', 'roiled', 'the', 'nation', 'before', 'cooler', 'heads', 'realized', 'it', 'was', 'a', 'dud', 'but', 'according', 'to', 'a', 'senior', 'house', 'democratic', 'aide', 'misreading', 'that', 'letter', 'may', 'have', 'been', 'the', 'least', 'of', 'chaffetz', 'sins', 'that', 'aide', 'told', 'shareblue', 'that', 'his', 'boss', 'and', 'other', 'democrats', 'didn', 't', 'even', 'know', 'about', 'comey', 's', 'letter', 'at', 'the', 'only', 'found', 'out', 'when', 'they', 'checked', 'twitter', 'democratic', 'ranking', 'members', 'on', 'the', 'relevant', 'committees', 'didn', 't', 'receive', 'comey', 's', 'letter', 'until', 'after', 'the', 'republican', 'chairmen', 'in', 'fact', 'the', 'democratic', 'ranking', 'members', 'didn', 'receive', 'it', 'until', 'after', 'the', 'chairman', 'of', 'the', 'oversight', 'and', 'government', 'reform', 'committee', 'jason', 'chaffetz', 'tweeted', 'it', 'out', 'and', 'made', 'it', 'public', 'so', 'let', 's', 'see', 'if', 'we', 've', 'got', 'this', 'right', 'the', 'fbi', 'director', 'tells', 'chaffetz', 'and', 'other', 'gop', 'committee', 'chairmen', 'about', 'a', 'major', 'development', 'in', 'a', 'potentially', 'politically', 'explosive', 'investigation', 'and', 'neither', 'chaffetz', 'nor', 'his', 'other', 'colleagues', 'had', 'the', 'courtesy', 'to', 'let', 'their', 'democratic', 'counterparts', 'know', 'about', 'it', 'instead', 'according', 'to', 'this', 'aide', 'he', 'made', 'them', 'find', 'out', 'about', 'it', 'on', 'twitter', 'there', 'has', 'already', 'been', 'talk', 'on', 'daily', 'kos', 'that', 'comey', 'himself', 'provided', 'advance', 'notice', 'of', 'this', 'letter', 'to', 'chaffetz', 'and', 'other', 'republicans', 'giving', 'them', 'time', 'to', 'turn', 'on', 'the', 'spin', 'machine', 'that', 'may', 'make', 'for', 'good', 'theater', 'but', 'there', 'is', 'nothing', 'so', 'far', 'that', 'even', 'suggests', 'this', 'is', 'the', 'case', 'after', 'all', 'there', 'is', 'nothing', 'so', 'far', 'that', 'suggests', 'that', 'comey', 'was', 'anything', 'other', 'than', 'grossly', 'incompetent', 'and', 'tonedeaf', 'what', 'it', 'does', 'suggest', 'however', 'is', 'that', 'chaffetz', 'is', 'acting', 'in', 'a', 'way', 'that', 'makes', 'dan', 'burton', 'and', 'darrell', 'issa', 'look', 'like', 'models', 'of', 'responsibility', 'and', 'bipartisanship', 'he', 'didn', 't', 'even', 'have', 'the', 'decency', 'to', 'notify', 'ranking', 'member', 'elijah', 'cummings', 'about', 'something', 'this', 'explosive', 'if', 'that', 'doesn', 't', 'trample', 'on', 'basic', 'standards', 'of', 'fairness', 'i', 'don', 't', 'know', 'what', 'does', 'granted', 'it', 's', 'not', 'likely', 'that', 'chaffetz', 'will', 'have', 'to', 'answer', 'for', 'this', 'he', 'sits', 'in', 'a', 'ridiculously', 'republican', 'district', 'anchored', 'in', 'provo', 'and', 'orem', 'it', 'has', 'a', 'cook', 'partisan', 'voting', 'index', 'of', 'and', 'gave', 'mitt', 'romney', 'a', 'punishing', 'percent', 'of', 'the', 'vote', 'in', 'moreover', 'the', 'republican', 'house', 'leadership', 'has', 'given', 'its', 'full', 'support', 'to', 'chaffetz', 'planned', 'fishing', 'expedition', 'but', 'that', 'doesn', 't', 'mean', 'we', 'can', 't', 'turn', 'the', 'hot', 'lights', 'on', 'him', 'after', 'all', 'he', 'is', 'a', 'textbook', 'example', 'of', 'what', 'the', 'house', 'has', 'become', 'under', 'republican', 'control', 'and', 'he', 'is', 'also', 'the', 'second', 'worst', 'person', 'in', 'the', 'world', 'about', 'darrell', 'lucus', 'darrell', 'is', 'a', 'graduate', 'of', 'the', 'university', 'of', 'north', 'carolina', 'who', 'considers', 'himself', 'a', 'journalist', 'of', 'the', 'old', 'school', 'an', 'attempt', 'to', 'turn', 'him', 'into', 'a', 'member', 'of', 'the', 'religious', 'right', 'in', 'college', 'only', 'succeeded', 'in', 'turning', 'him', 'into', 'the', 'religious', 'right', 'worst', 'nightmare', 'a', 'charismatic', 'christian', 'who', 'is', 'an', 'unapologetic', 'liberal', 'his', 'desire', 'to', 'stand', 'up', 'for', 'those', 'who', 'have', 'been', 'scared', 'into', 'silence', 'only', 'increased', 'when', 'he', 'survived', 'an', 'abusive', 'threeyear', 'marriage', 'you', 'may', 'know', 'him', 'on', 'daily', 'kos', 'as', 'christian', 'dem', 'in', 'nc', 'follow', 'him', 'on', 'twitter', 'darrelllucus', 'or', 'connect', 'with', 'him', 'on', 'facebook', 'click', 'here', 'to', 'buy', 'darrell', 'a', 'mello', 'yello', 'connect']\n",
      "Total news: 20142\n",
      "Total labels: 20142\n"
     ]
    }
   ],
   "source": [
    "from nltk.corpus import stopwords # Import the stop words lists from NLTK\n",
    "import re # Import the re package\n",
    "\n",
    "stopwords_english = stopwords.words('english') # Load the stop words list for English in variable\n",
    "\n",
    "alltexts_processed = alltexts_tokenised\n",
    "\n",
    "print('Preprocessing news...',end='')\n",
    "for i in range(len(alltexts_tokenised)):\n",
    "    new_tokens =[]\n",
    "    for word in alltexts_tokenised[i]:\n",
    "        word = word.replace('-','')\n",
    "        word = word.replace('.','')\n",
    "        regex_check = re.match('[a-z]+',word)\n",
    "        if (regex_check != None):\n",
    "            if (regex_check.group()==word):\n",
    "                new_tokens.append(word)\n",
    "    alltexts_processed[i] = new_tokens\n",
    "    \n",
    "print('[DONE]\\n')\n",
    "\n",
    "\n",
    "# the for loop cannot remove all the None object\n",
    "new_alltexts_processed = []\n",
    "new_labels_final = []\n",
    "\n",
    "for i in range(len(alltexts_processed)):\n",
    "    if (len(alltexts_processed[i]) != 0):\n",
    "        new_alltexts_processed.append(alltexts_processed[i])\n",
    "        new_labels_final.append(labels_final[i])\n",
    "\n",
    "alltexts_processed = new_alltexts_processed\n",
    "labels_final = new_labels_final\n",
    "\n",
    "for i in range(len(alltexts_processed)): # check if any pre-processed news is empty\n",
    "    if (len(alltexts_processed[i])==0):\n",
    "        print('News',i, 'is empty!')\n",
    "    \n",
    "print(alltexts_processed[0]) # print first news\n",
    "\n",
    "print('Total news:', len(alltexts_processed))\n",
    "print('Total labels:', len(labels_final))"
   ]
  },
  {
   "cell_type": "code",
   "execution_count": 8,
   "metadata": {},
   "outputs": [
    {
     "name": "stdout",
     "output_type": "stream",
     "text": [
      "house dem aide we didn t even see comey s letter until jason chaffetz tweeted it house dem aide we didn t even see comey s letter until jason chaffetz tweeted it by darrell lucus on october subscribe jason chaffetz on the stump in american fork utah image courtesy michael jolley available under a creative commonsby license with apologies to keith olbermann there is no doubt who the worst person in the world is this director james comey but according to a house democratic aide it looks like we also know who the secondworst person is as well it turns out that when comey sent his nowinfamous letter announcing that the fbi was looking into emails that may be related to hillary clinton s email server the ranking democrats on the relevant committees didn t hear about it from comey they found out via a tweet from one of the republican committee chairmen as we now know comey notified the republican chairmen and democratic ranking members of the house intelligence judiciary and oversight committees that his agency was reviewing emails it had recently discovered in order to see if they contained classified information not long after this letter went out oversight committee chairman jason chaffetz set the political world ablaze with this tweet fbi dir just informed me the fbi has learned of the existence of emails that appear to be pertinent to the investigation case reopened jason chaffetz jasoninthehouse october of course we now know that this was not the case comey was actually saying that it was reviewing the emails in light of an unrelated case we now know to be anthony weiner s sexting with a teenager but apparently such little things as facts didn t matter to chaffetz the utah republican had already vowed to initiate a raft of investigations if hillary least two years worth and possibly an entire term s worth of them apparently chaffetz thought the fbi was already doing his work for in a tweet that briefly roiled the nation before cooler heads realized it was a dud but according to a senior house democratic aide misreading that letter may have been the least of chaffetz sins that aide told shareblue that his boss and other democrats didn t even know about comey s letter at the only found out when they checked twitter democratic ranking members on the relevant committees didn t receive comey s letter until after the republican chairmen in fact the democratic ranking members didn receive it until after the chairman of the oversight and government reform committee jason chaffetz tweeted it out and made it public so let s see if we ve got this right the fbi director tells chaffetz and other gop committee chairmen about a major development in a potentially politically explosive investigation and neither chaffetz nor his other colleagues had the courtesy to let their democratic counterparts know about it instead according to this aide he made them find out about it on twitter there has already been talk on daily kos that comey himself provided advance notice of this letter to chaffetz and other republicans giving them time to turn on the spin machine that may make for good theater but there is nothing so far that even suggests this is the case after all there is nothing so far that suggests that comey was anything other than grossly incompetent and tonedeaf what it does suggest however is that chaffetz is acting in a way that makes dan burton and darrell issa look like models of responsibility and bipartisanship he didn t even have the decency to notify ranking member elijah cummings about something this explosive if that doesn t trample on basic standards of fairness i don t know what does granted it s not likely that chaffetz will have to answer for this he sits in a ridiculously republican district anchored in provo and orem it has a cook partisan voting index of and gave mitt romney a punishing percent of the vote in moreover the republican house leadership has given its full support to chaffetz planned fishing expedition but that doesn t mean we can t turn the hot lights on him after all he is a textbook example of what the house has become under republican control and he is also the second worst person in the world about darrell lucus darrell is a graduate of the university of north carolina who considers himself a journalist of the old school an attempt to turn him into a member of the religious right in college only succeeded in turning him into the religious right worst nightmare a charismatic christian who is an unapologetic liberal his desire to stand up for those who have been scared into silence only increased when he survived an abusive threeyear marriage you may know him on daily kos as christian dem in nc follow him on twitter darrelllucus or connect with him on facebook click here to buy darrell a mello yello connect\n"
     ]
    }
   ],
   "source": [
    "dataset = []\n",
    "for i in range(len(alltexts_processed)):\n",
    "    text = \" \".join(alltexts_processed[i]) # Join words with an empty space between word\n",
    "    dataset.append(text)\n",
    "\n",
    "print(dataset[0])\n"
   ]
  },
  {
   "cell_type": "code",
   "execution_count": 9,
   "metadata": {},
   "outputs": [
    {
     "name": "stdout",
     "output_type": "stream",
     "text": [
      "The dataframe has 20142 rows and 2 columns\n",
      "Number of reliable news: \t10387,51.57%\n",
      "Number of unreliable news:\t 9755,48.43%\n"
     ]
    }
   ],
   "source": [
    "df = pd.DataFrame({'alltext':alltexts_processed, 'label':labels_final})\n",
    "df.to_csv('fakenews_processed.csv',index=False)\n",
    "\n",
    "num_rows, num_cols = df.shape\n",
    "\n",
    "print(f\"The dataframe has {num_rows} rows and {num_cols} columns\")\n",
    "print(f\"Number of reliable news: \\t{sum(df['label'] == 0)},{(sum(df['label'] == 0))/num_rows * 100:.2f}%\")\n",
    "print(f\"Number of unreliable news:\\t {sum(df['label'] == 1)},{(sum(df['label'] == 1))/num_rows * 100:.2f}%\")"
   ]
  },
  {
   "attachments": {},
   "cell_type": "markdown",
   "metadata": {},
   "source": [
    "## 2. Splitting of dataset into training and test sets \n",
    "- data for Naïve Bayes model and k-Nearest Neighbours models"
   ]
  },
  {
   "cell_type": "code",
   "execution_count": 10,
   "metadata": {},
   "outputs": [
    {
     "name": "stdout",
     "output_type": "stream",
     "text": [
      "Total samples:\t\t20142\n",
      "Training samples:\t14099, 70.00%\n",
      "Test samples:\t\t6043, 30.00%\n"
     ]
    }
   ],
   "source": [
    "from sklearn.model_selection import train_test_split\n",
    "\n",
    "# Split the dataset to a test set with 30% of the news and a traning set with the rest 70% of the news\n",
    "samples_train, samples_test, labels_train, labels_test = train_test_split(dataset, labels_final, test_size=0.3, random_state=17) # \n",
    "\n",
    "no_of_training_samples = len(samples_train)\n",
    "no_of_test_samples = len(samples_test)\n",
    "total_samples = no_of_training_samples + no_of_test_samples\n",
    "\n",
    "print(f'Total samples:\\t\\t{total_samples:4d}')\n",
    "print(f'Training samples:\\t{no_of_training_samples:4d}, {(no_of_training_samples/total_samples * 100):.2f}%')\n",
    "print(f'Test samples:\\t\\t{no_of_test_samples:4d}, {no_of_test_samples/total_samples * 100:.2f}%' )"
   ]
  },
  {
   "cell_type": "code",
   "execution_count": 11,
   "metadata": {},
   "outputs": [
    {
     "name": "stdout",
     "output_type": "stream",
     "text": [
      "Number of reliable news in training samples:\t7286,51.68%\n",
      "Number of unreliable news in training samples:\t6813,48.32%\n",
      "Number of reliable news in test samples:\t3101,51.32%\n",
      "Number of unreliable news in test samples:\t2942,48.68%\n"
     ]
    }
   ],
   "source": [
    "no_of_reliable_training = labels_train.count(0)\n",
    "no_of_unreliable_training = labels_train.count(1)\n",
    "\n",
    "no_of_reliable_test = labels_test.count(0)\n",
    "no_of_unreliable_test = labels_test.count(1)\n",
    "\n",
    "print(f\"Number of reliable news in training samples:\\t{no_of_reliable_training},{no_of_reliable_training/no_of_training_samples * 100:.2f}%\")\n",
    "print(f\"Number of unreliable news in training samples:\\t{no_of_unreliable_training},{no_of_unreliable_training/no_of_training_samples * 100:.2f}%\")\n",
    "\n",
    "print(f\"Number of reliable news in test samples:\\t{no_of_reliable_test},{no_of_reliable_test/no_of_test_samples * 100:.2f}%\")\n",
    "print(f\"Number of unreliable news in test samples:\\t{no_of_unreliable_test},{no_of_unreliable_test/no_of_test_samples * 100:.2f}%\")\n"
   ]
  },
  {
   "attachments": {},
   "cell_type": "markdown",
   "metadata": {},
   "source": [
    "## 3. a Naïve Bayes model  \n",
    "### 3.1. Text classification using Naive Bayes   "
   ]
  },
  {
   "cell_type": "code",
   "execution_count": 12,
   "metadata": {},
   "outputs": [
    {
     "name": "stdout",
     "output_type": "stream",
     "text": [
      "Predicted:[0, 1, 1, 0, 0, 0, 0, 0, 0, 0]\n",
      "Ground truth:[0, 1, 1, 0, 0, 0, 0, 0, 0, 0]\n"
     ]
    }
   ],
   "source": [
    "from sklearn.feature_extraction.text import TfidfVectorizer\n",
    "from sklearn.naive_bayes import MultinomialNB\n",
    "from sklearn.pipeline import make_pipeline\n",
    "\n",
    "# Build the Naive Bayes model by setting a pipeline where the input is first converted to TF-IDF vectors and then a Multinomial Naive Bayes is used\n",
    "model_bayes = make_pipeline(TfidfVectorizer(), MultinomialNB())\n",
    "\n",
    "model_bayes.fit(samples_train, labels_train)\n",
    "predicted_categories = model_bayes.predict(samples_test)\n",
    "\n",
    "print(f'Predicted:{predicted_categories.tolist()[0:10]}')\n",
    "print(f'Ground truth:{labels_test[0:10]}')"
   ]
  },
  {
   "cell_type": "markdown",
   "metadata": {},
   "source": [
    "### 3.2. Computation and plotting of Naive Bayes’s classification performance"
   ]
  },
  {
   "cell_type": "code",
   "execution_count": 13,
   "metadata": {},
   "outputs": [
    {
     "data": {
      "image/png": "[encoded data removed]",
      "text/plain": [
       "<Figure size 640x480 with 2 Axes>"
      ]
     },
     "metadata": {},
     "output_type": "display_data"
    },
    {
     "name": "stdout",
     "output_type": "stream",
     "text": [
      "Accuracy:\t0.810525\n",
      "F1-score:\t0.801884\n",
      "Precision:\t0.860608\n",
      "Recall:\t\t0.805587\n",
      "\n",
      "Classification performance:\n",
      "              precision    recall  f1-score   support\n",
      "\n",
      "           0       0.73      0.99      0.84      3101\n",
      "           1       0.99      0.62      0.76      2942\n",
      "\n",
      "    accuracy                           0.81      6043\n",
      "   macro avg       0.86      0.81      0.80      6043\n",
      "weighted avg       0.86      0.81      0.80      6043\n",
      "\n"
     ]
    }
   ],
   "source": [
    "from sklearn.metrics import average_precision_score, confusion_matrix, accuracy_score, f1_score, precision_score, recall_score, classification_report\n",
    "import seaborn as sns \n",
    "import matplotlib.pyplot as plt\n",
    "sns.set() # use seaborn plotting style\n",
    "\n",
    "# Plot the confusion matrix\n",
    "mat = confusion_matrix(labels_test, predicted_categories)\n",
    "sns.heatmap(mat.T, square = True, annot = True, fmt = 'd')\n",
    "plt.xlabel('True label')\n",
    "plt.ylabel('Predicted label')\n",
    "plt.show()\n",
    "\n",
    "# Compute and print classification performance metrics\n",
    "print(f\"Accuracy:\\t{accuracy_score(labels_test, predicted_categories):f}\")\n",
    "print(f\"F1-score:\\t{f1_score(labels_test, predicted_categories, average='macro'):f}\")\n",
    "print(f\"Precision:\\t{precision_score(labels_test, predicted_categories,average='macro'):f}\")\n",
    "print(f\"Recall:\\t\\t{recall_score(labels_test, predicted_categories,average='macro'):f}\")\n",
    "\n",
    "print(f'\\nClassification performance:\\n{classification_report(labels_test, predicted_categories)}')"
   ]
  },
  {
   "cell_type": "markdown",
   "metadata": {},
   "source": [
    "### 3.3. Save trained model in a file for future use"
   ]
  },
  {
   "cell_type": "code",
   "execution_count": 14,
   "metadata": {},
   "outputs": [],
   "source": [
    "import pickle\n",
    "pkl_filename = \"model_bayes_fakenews.pkl\"\n",
    "with open(pkl_filename, 'wb') as file:\n",
    "    pickle.dump(model_bayes, file)"
   ]
  },
  {
   "attachments": {},
   "cell_type": "markdown",
   "metadata": {},
   "source": [
    "## 4. two k-Nearest Neighbours models (k=3, k=7)\n",
    "### 4.1 Text classification using 3NN"
   ]
  },
  {
   "cell_type": "code",
   "execution_count": 15,
   "metadata": {},
   "outputs": [
    {
     "name": "stdout",
     "output_type": "stream",
     "text": [
      "Predicted:[1, 1, 1, 1, 0, 0, 0, 1, 0, 0]\n",
      "Ground truth:[0, 1, 1, 0, 0, 0, 0, 0, 0, 0]\n"
     ]
    }
   ],
   "source": [
    "from sklearn.neighbors import KNeighborsClassifier\n",
    "\n",
    "# Build the kNN model by setting a pipeline where the input is first converted to TF-IDF vectors and then a kNN classifier for k=3 is used\n",
    "model_3nn = make_pipeline(TfidfVectorizer(), KNeighborsClassifier(n_neighbors=3))\n",
    "\n",
    "model_3nn.fit(samples_train, labels_train) # Train the model on the training data\n",
    "predicted_categories = model_3nn.predict(samples_test) # Predict the categories of the test data\n",
    "\n",
    "print(f\"Predicted:{predicted_categories.tolist()[0:10]}\")  # Print the first 10 predictions\n",
    "print(f\"Ground truth:{labels_test[0:10]}\") # Print the first 10 ground truth values"
   ]
  },
  {
   "cell_type": "markdown",
   "metadata": {},
   "source": [
    "### 4.2. Computation and plotting of 3NN’s classification performance"
   ]
  },
  {
   "cell_type": "code",
   "execution_count": 16,
   "metadata": {},
   "outputs": [
    {
     "data": {
      "image/png": "[encoded data removed]",
      "text/plain": [
       "<Figure size 640x480 with 2 Axes>"
      ]
     },
     "metadata": {},
     "output_type": "display_data"
    },
    {
     "name": "stdout",
     "output_type": "stream",
     "text": [
      "Accuracy:\t0.652325\n",
      "F1-score:\t0.618060\n",
      "Precision:\t0.763660\n",
      "Recall:\t\t0.660663\n",
      "\n",
      "Classification performance:\n",
      "              precision    recall  f1-score   support\n",
      "\n",
      "           0       0.94      0.34      0.50      3101\n",
      "           1       0.59      0.98      0.73      2942\n",
      "\n",
      "    accuracy                           0.65      6043\n",
      "   macro avg       0.76      0.66      0.62      6043\n",
      "weighted avg       0.77      0.65      0.62      6043\n",
      "\n"
     ]
    }
   ],
   "source": [
    "# Plot the confusion matrix\n",
    "\n",
    "mat = confusion_matrix(labels_test, predicted_categories)\n",
    "sns.heatmap(mat.T, square=True, annot=True, fmt='d')\n",
    "plt.xlabel(\"True label\")\n",
    "plt.ylabel(\"Predicted label\")\n",
    "plt.show()\n",
    "\n",
    "# Compute and print classification performance metrics\n",
    "print(f\"Accuracy:\\t{accuracy_score(labels_test, predicted_categories):f}\")\n",
    "print(f\"F1-score:\\t{f1_score(labels_test, predicted_categories, average='macro'):f}\")\n",
    "print(f\"Precision:\\t{precision_score(labels_test, predicted_categories,average='macro'):f}\")\n",
    "print(f\"Recall:\\t\\t{recall_score(labels_test, predicted_categories,average='macro'):f}\")\n",
    "\n",
    "print(f'\\nClassification performance:\\n{classification_report(labels_test, predicted_categories)}')"
   ]
  },
  {
   "cell_type": "markdown",
   "metadata": {},
   "source": [
    "### 4.3. Save trained model in a file for future use"
   ]
  },
  {
   "cell_type": "code",
   "execution_count": 17,
   "metadata": {},
   "outputs": [],
   "source": [
    "import pickle\n",
    "pkl_filename = \"model_3nn_fakenews.pkl\"\n",
    "with open(pkl_filename, 'wb') as file:\n",
    "    pickle.dump(model_3nn, file)"
   ]
  },
  {
   "attachments": {},
   "cell_type": "markdown",
   "metadata": {},
   "source": [
    "### 4.4 Text classification using 7NN"
   ]
  },
  {
   "cell_type": "code",
   "execution_count": 18,
   "metadata": {},
   "outputs": [
    {
     "name": "stdout",
     "output_type": "stream",
     "text": [
      "Predicted:[1, 1, 1, 0, 0, 0, 0, 1, 0, 0]\n",
      "Ground truth:[0, 1, 1, 0, 0, 0, 0, 0, 0, 0]\n"
     ]
    }
   ],
   "source": [
    "from sklearn.neighbors import KNeighborsClassifier\n",
    "\n",
    "# Build the kNN model by setting a pipeline where the input is first converted to TF-IDF vectors and then a kNN classifier for k=3 is used\n",
    "model_7nn = make_pipeline(TfidfVectorizer(), KNeighborsClassifier(n_neighbors=7))\n",
    "\n",
    "model_7nn.fit(samples_train, labels_train) # Train the model on the training data\n",
    "predicted_categories = model_7nn.predict(samples_test) # Predict the categories of the test data\n",
    "\n",
    "print(f\"Predicted:{predicted_categories.tolist()[0:10]}\")  # Print the first 10 predictions\n",
    "print(f\"Ground truth:{labels_test[0:10]}\") # Print the first 10 ground truth values"
   ]
  },
  {
   "attachments": {},
   "cell_type": "markdown",
   "metadata": {},
   "source": [
    "### 4.5. Computation and plotting of 7NN’s classification performance"
   ]
  },
  {
   "cell_type": "code",
   "execution_count": 19,
   "metadata": {},
   "outputs": [
    {
     "data": {
      "image/png": "[encoded data removed]",
      "text/plain": [
       "<Figure size 640x480 with 2 Axes>"
      ]
     },
     "metadata": {},
     "output_type": "display_data"
    },
    {
     "name": "stdout",
     "output_type": "stream",
     "text": [
      "Accuracy:\t0.757902\n",
      "F1-score:\t0.751113\n",
      "Precision:\t0.800853\n",
      "Recall:\t\t0.762775\n",
      "\n",
      "Classification performance:\n",
      "              precision    recall  f1-score   support\n",
      "\n",
      "           0       0.92      0.58      0.71      3101\n",
      "           1       0.68      0.95      0.79      2942\n",
      "\n",
      "    accuracy                           0.76      6043\n",
      "   macro avg       0.80      0.76      0.75      6043\n",
      "weighted avg       0.80      0.76      0.75      6043\n",
      "\n"
     ]
    }
   ],
   "source": [
    "# Plot the confusion matrix\n",
    "\n",
    "mat = confusion_matrix(labels_test, predicted_categories)\n",
    "sns.heatmap(mat.T, square=True, annot=True, fmt='d')\n",
    "plt.xlabel(\"True label\")\n",
    "plt.ylabel(\"Predicted label\")\n",
    "plt.show()\n",
    "\n",
    "# Compute and print classification performance metrics\n",
    "print(f\"Accuracy:\\t{accuracy_score(labels_test, predicted_categories):f}\")\n",
    "print(f\"F1-score:\\t{f1_score(labels_test, predicted_categories, average='macro'):f}\")\n",
    "print(f\"Precision:\\t{precision_score(labels_test, predicted_categories,average='macro'):f}\")\n",
    "print(f\"Recall:\\t\\t{recall_score(labels_test, predicted_categories,average='macro'):f}\")\n",
    "\n",
    "print(f'\\nClassification performance:\\n{classification_report(labels_test, predicted_categories)}')"
   ]
  },
  {
   "attachments": {},
   "cell_type": "markdown",
   "metadata": {},
   "source": [
    "### 4.6. Save trained model in a file for future use"
   ]
  },
  {
   "cell_type": "code",
   "execution_count": 20,
   "metadata": {},
   "outputs": [],
   "source": [
    "pkl_filename = \"model_7nn_fakenews.pkl\"\n",
    "with open(pkl_filename, 'wb') as file:\n",
    "    pickle.dump(model_7nn, file)"
   ]
  },
  {
   "attachments": {},
   "cell_type": "markdown",
   "metadata": {},
   "source": [
    "## 5. a Convolutional Neural Network (CNN) model\n",
    "### 5.1. Create Pytorch dataset (Training data and Test data) for CNN model"
   ]
  },
  {
   "cell_type": "code",
   "execution_count": 21,
   "metadata": {},
   "outputs": [
    {
     "name": "stdout",
     "output_type": "stream",
     "text": [
      "Training samples: 14099\n",
      "Test samples: 6043\n",
      "uk government hosts europe s largest jew hate event allegedly linked to terror a government building in westminster is hosting the biggest ever in europe event organised by a group allegedly linked to islamists and terror groups palestine expo is due to take place just yards away from parliament in the queen elizabeth ii centre which is owned by the government and operated by an agency of the department for communities and local government the building was reportedly one of those considered as a venue to host parliament itself when the palace of westminster is closed for renovations although presented as a introduction to palestinian history and culture the event will host islamist and speakers and has been described as a jew hate event by jewish groups be there get your earlybird tickets now offer ends may https freepalestine bds endoccupation freegaza pic twitter friends of al aqsa friendsofalaqsa may the event to be held on the and of july has been organised by the friends of foa which claims it is concerned with defending the human rights of palestinians and protecting the sacred sanctuary in jerusalem the group however is allegedly linked to the hamas terror group has supported islamists funded by iran s khomenist regime and openly publishes the work of paul eisen described as a holocaust denier by papers such as the guardian the group s founder and chair ismail patel was a supporter of the late french holocaust denier roger garaudy has been pictured with hamas leaders at a rally mr patel told the crowd hamas is no terrorist organisation the reason they hate hamas is because they refuse to be subjugated occupied by the israeli state and we salute hamas for standing up to israel to the state of israel you no longer represent the\n",
      "new memoirs show how the other half lives the new york times it might be said that the presidential candidacy of donald trump has something in common with hurricane katrina in exposing how a major american city can share traits with the developing world the storm broke apart one of america s prevailing ideas about itself the myth that for all our inequities and intractable social blights this is still fundamentally a land of equal opportunity trump through sheer dint of his own bluster has conducted his own version of this by forcing liberal types to reckon with a demographic they had long dismissed as a punch line uneducated whites in economically depleted regions he awakened them to the fact that the groovy progressive social values they had assumed were a national fait accompli were actually only half the story j d vance a son of appalachian poverty who eventually graduated from yale law school and now works in silicon valley has found himself lately in the position of both telling that story and translating its political nuances into terms easily understood by coastal elites more accustomed to caricatures his hillbilly elegy a memoir of a family and culture in crisis is an affectionate yet unflinching look at growing up in social and domestic chaos in southwestern ohio since his people originally come from kentucky coal country vance claims the right to call himself a hillbilly he does so with pride but his family dysfunction is baroque to say the least his mother nearly kills him yet he refuses to testify against her in court in order to spare her jail time his grandmother who s the most stable force in his life is famous for having poured gasoline on his grandfather and dropping a lighted match on his chest\n"
     ]
    }
   ],
   "source": [
    "def truncate_text_to_max_words(text,max_words): # Keep only the first max_words of each text \n",
    "    text = text.split(maxsplit=max_words) \n",
    "    text = ' '.join(text[:max_words]) \n",
    "    return text \n",
    "\n",
    "max_words = 300\n",
    "\n",
    "training_data = pd.DataFrame({'alltext':samples_train, 'label': labels_train})\n",
    "test_data = pd.DataFrame({'alltext':samples_test,'label':labels_test})\n",
    "\n",
    "training_data['alltext'] = training_data['alltext'].apply(truncate_text_to_max_words,args=(max_words,))\n",
    "test_data['alltext'] = test_data['alltext'].apply(truncate_text_to_max_words,args=(max_words,))\n",
    "\n",
    "print(\"Training samples:\",len(training_data['alltext'])) \n",
    "print(\"Test samples:\",len(test_data['alltext']))\n",
    "\n",
    "print(training_data['alltext'].iloc[0]) # Print first text as an example \n",
    "print(test_data['alltext'].iloc[0]) # Print first text as an example \n",
    "\n",
    "training_data.to_csv('training_data.csv',index=False)\n",
    "test_data.to_csv('test_data.csv',index=False)"
   ]
  },
  {
   "cell_type": "code",
   "execution_count": 22,
   "metadata": {},
   "outputs": [
    {
     "name": "stderr",
     "output_type": "stream",
     "text": [
      "/Users/mbp/opt/anaconda3/envs/pytorch/lib/python3.8/site-packages/tqdm/auto.py:22: TqdmWarning: IProgress not found. Please update jupyter and ipywidgets. See https://ipywidgets.readthedocs.io/en/stable/user_install.html\n",
      "  from .autonotebook import tqdm as notebook_tqdm\n"
     ]
    },
    {
     "name": "stdout",
     "output_type": "stream",
     "text": [
      "{'text': ['uk', 'government', 'hosts', 'europe', 's', 'largest', 'jew', 'hate', 'event', 'allegedly', 'linked', 'to', 'terror', 'a', 'government', 'building', 'in', 'westminster', 'is', 'hosting', 'the', 'biggest', 'ever', 'in', 'europe', 'event', 'organised', 'by', 'a', 'group', 'allegedly', 'linked', 'to', 'islamists', 'and', 'terror', 'groups', 'palestine', 'expo', 'is', 'due', 'to', 'take', 'place', 'just', 'yards', 'away', 'from', 'parliament', 'in', 'the', 'queen', 'elizabeth', 'ii', 'centre', 'which', 'is', 'owned', 'by', 'the', 'government', 'and', 'operated', 'by', 'an', 'agency', 'of', 'the', 'department', 'for', 'communities', 'and', 'local', 'government', 'the', 'building', 'was', 'reportedly', 'one', 'of', 'those', 'considered', 'as', 'a', 'venue', 'to', 'host', 'parliament', 'itself', 'when', 'the', 'palace', 'of', 'westminster', 'is', 'closed', 'for', 'renovations', 'although', 'presented', 'as', 'a', 'introduction', 'to', 'palestinian', 'history', 'and', 'culture', 'the', 'event', 'will', 'host', 'islamist', 'and', 'speakers', 'and', 'has', 'been', 'described', 'as', 'a', 'jew', 'hate', 'event', 'by', 'jewish', 'groups', 'be', 'there', 'get', 'your', 'earlybird', 'tickets', 'now', 'offer', 'ends', 'may', 'https', 'freepalestine', 'bds', 'endoccupation', 'freegaza', 'pic', 'twitter', 'friends', 'of', 'al', 'aqsa', 'friendsofalaqsa', 'may', 'the', 'event', 'to', 'be', 'held', 'on', 'the', 'and', 'of', 'july', 'has', 'been', 'organised', 'by', 'the', 'friends', 'of', 'foa', 'which', 'claims', 'it', 'is', 'concerned', 'with', 'defending', 'the', 'human', 'rights', 'of', 'palestinians', 'and', 'protecting', 'the', 'sacred', 'sanctuary', 'in', 'jerusalem', 'the', 'group', 'however', 'is', 'allegedly', 'linked', 'to', 'the', 'hamas', 'terror', 'group', 'has', 'supported', 'islamists', 'funded', 'by', 'iran', 's', 'khomenist', 'regime', 'and', 'openly', 'publishes', 'the', 'work', 'of', 'paul', 'eisen', 'described', 'as', 'a', 'holocaust', 'denier', 'by', 'papers', 'such', 'as', 'the', 'guardian', 'the', 'group', 's', 'founder', 'and', 'chair', 'ismail', 'patel', 'was', 'a', 'supporter', 'of', 'the', 'late', 'french', 'holocaust', 'denier', 'roger', 'garaudy', 'has', 'been', 'pictured', 'with', 'hamas', 'leaders', 'at', 'a', 'rally', 'mr', 'patel', 'told', 'the', 'crowd', 'hamas', 'is', 'no', 'terrorist', 'organisation', 'the', 'reason', 'they', 'hate', 'hamas', 'is', 'because', 'they', 'refuse', 'to', 'be', 'subjugated', 'occupied', 'by', 'the', 'israeli', 'state', 'and', 'we', 'salute', 'hamas', 'for', 'standing', 'up', 'to', 'israel', 'to', 'the', 'state', 'of', 'israel', 'you', 'no', 'longer', 'represent', 'the'], 'label': '0'}\n",
      "{'text': ['new', 'memoirs', 'show', 'how', 'the', 'other', 'half', 'lives', 'the', 'new', 'york', 'times', 'it', 'might', 'be', 'said', 'that', 'the', 'presidential', 'candidacy', 'of', 'donald', 'trump', 'has', 'something', 'in', 'common', 'with', 'hurricane', 'katrina', 'in', 'exposing', 'how', 'a', 'major', 'american', 'city', 'can', 'share', 'traits', 'with', 'the', 'developing', 'world', 'the', 'storm', 'broke', 'apart', 'one', 'of', 'america', 's', 'prevailing', 'ideas', 'about', 'itself', 'the', 'myth', 'that', 'for', 'all', 'our', 'inequities', 'and', 'intractable', 'social', 'blights', 'this', 'is', 'still', 'fundamentally', 'a', 'land', 'of', 'equal', 'opportunity', 'trump', 'through', 'sheer', 'dint', 'of', 'his', 'own', 'bluster', 'has', 'conducted', 'his', 'own', 'version', 'of', 'this', 'by', 'forcing', 'liberal', 'types', 'to', 'reckon', 'with', 'a', 'demographic', 'they', 'had', 'long', 'dismissed', 'as', 'a', 'punch', 'line', 'uneducated', 'whites', 'in', 'economically', 'depleted', 'regions', 'he', 'awakened', 'them', 'to', 'the', 'fact', 'that', 'the', 'groovy', 'progressive', 'social', 'values', 'they', 'had', 'assumed', 'were', 'a', 'national', 'fait', 'accompli', 'were', 'actually', 'only', 'half', 'the', 'story', 'j', 'd', 'vance', 'a', 'son', 'of', 'appalachian', 'poverty', 'who', 'eventually', 'graduated', 'from', 'yale', 'law', 'school', 'and', 'now', 'works', 'in', 'silicon', 'valley', 'has', 'found', 'himself', 'lately', 'in', 'the', 'position', 'of', 'both', 'telling', 'that', 'story', 'and', 'translating', 'its', 'political', 'nuances', 'into', 'terms', 'easily', 'understood', 'by', 'coastal', 'elites', 'more', 'accustomed', 'to', 'caricatures', 'his', 'hillbilly', 'elegy', 'a', 'memoir', 'of', 'a', 'family', 'and', 'culture', 'in', 'crisis', 'is', 'an', 'affectionate', 'yet', 'unflinching', 'look', 'at', 'growing', 'up', 'in', 'social', 'and', 'domestic', 'chaos', 'in', 'southwestern', 'ohio', 'since', 'his', 'people', 'originally', 'come', 'from', 'kentucky', 'coal', 'country', 'vance', 'claims', 'the', 'right', 'to', 'call', 'himself', 'a', 'hillbilly', 'he', 'does', 'so', 'with', 'pride', 'but', 'his', 'family', 'dysfunction', 'is', 'baroque', 'to', 'say', 'the', 'least', 'his', 'mother', 'nearly', 'kills', 'him', 'yet', 'he', 'refuses', 'to', 'testify', 'against', 'her', 'in', 'court', 'in', 'order', 'to', 'spare', 'her', 'jail', 'time', 'his', 'grandmother', 'who', 's', 'the', 'most', 'stable', 'force', 'in', 'his', 'life', 'is', 'famous', 'for', 'having', 'poured', 'gasoline', 'on', 'his', 'grandfather', 'and', 'dropping', 'a', 'lighted', 'match', 'on', 'his', 'chest'], 'label': '0'}\n"
     ]
    }
   ],
   "source": [
    "import torch\n",
    "from torchtext.legacy import data\n",
    "from torchtext.legacy.data import TabularDataset, Iterator\n",
    "from nltk import word_tokenize\n",
    "\n",
    "TEXT = data.Field(tokenize=word_tokenize, batch_first=True, include_lengths=True)  # Create text field for dataset\n",
    "LABEL = data.LabelField(dtype=torch.float, batch_first = True) # Create label field for dataset\n",
    "\n",
    "fields = [('text',TEXT),('label', LABEL)]\n",
    "\n",
    "training_data, test_data = TabularDataset.splits(path='.', train='training_data.csv', test='test_data.csv', format='csv', fields = fields, skip_header=True)\n",
    "\n",
    "print(vars(training_data.examples[0])) # Print first text as an example\n",
    "print(vars(test_data.examples[0])) # Print first text as an example"
   ]
  },
  {
   "cell_type": "markdown",
   "metadata": {},
   "source": [
    "### 5.2. Create vocabulary using the training set"
   ]
  },
  {
   "cell_type": "code",
   "execution_count": 23,
   "metadata": {},
   "outputs": [
    {
     "name": "stdout",
     "output_type": "stream",
     "text": [
      "Size of TEXT vocabulary: 80800\n",
      "Size of LABEL vocabulary: 2 \n",
      "\n",
      "Most common tokens: [('the', 223887), ('to', 99555), ('of', 99369), ('a', 87289), ('and', 85749), ('in', 73621), ('that', 46972), ('s', 40680), ('on', 35998), ('is', 35495)] \n",
      "\n",
      "Index of unknown word <unk>: 0\n",
      "Index of padding word <pad>: 1\n"
     ]
    }
   ],
   "source": [
    "TEXT.build_vocab(training_data, min_freq=1)\n",
    "LABEL.build_vocab(training_data)\n",
    "\n",
    "print(\"Size of TEXT vocabulary:\",len(TEXT.vocab)) # Number of unique tokens in vocabulary\n",
    "print(\"Size of LABEL vocabulary:\",len(LABEL.vocab),\"\\n\") # Number of unique labels\n",
    "\n",
    "print(\"Most common tokens:\",TEXT.vocab.freqs.most_common(10),\"\\n\") # Print the 10 most common tokens in the training set\n",
    "\n",
    "print(\"Index of unknown word <unk>:\",TEXT.vocab.stoi['<unk>'])\n",
    "print(\"Index of padding word <pad>:\",TEXT.vocab.stoi['<pad>'])"
   ]
  },
  {
   "cell_type": "markdown",
   "metadata": {},
   "source": [
    "### 5.3. Create iterators for the training and test data"
   ]
  },
  {
   "cell_type": "code",
   "execution_count": 24,
   "metadata": {},
   "outputs": [
    {
     "name": "stdout",
     "output_type": "stream",
     "text": [
      "Device: cpu\n"
     ]
    }
   ],
   "source": [
    "import random \n",
    "RANDOM_SEED = 42\n",
    "\n",
    "device = torch.device('cuda' if torch.cuda.is_available() else 'cpu') #Set device to GPU if cuda available, else CPU\n",
    "print(\"Device:\",device)\n",
    "\n",
    "torch.manual_seed(RANDOM_SEED) \n",
    "torch.backends.cudnn.deterministic = True\n",
    "BATCH_SIZE = 32 #Set batch size for training\n",
    "\n",
    "# Create data iterator for training and test sets\n",
    "training_iterator, test_iterator = data.BucketIterator.splits( \n",
    "    (training_data, test_data), \n",
    "    batch_size = BATCH_SIZE, \n",
    "    sort_key = lambda x: len(x.text), \n",
    "    sort_within_batch=True, \n",
    "    device = device)\n"
   ]
  },
  {
   "attachments": {},
   "cell_type": "markdown",
   "metadata": {},
   "source": [
    "### 5.4. Create CNN architecture\n",
    "#### 5.4.1. Define network architecture"
   ]
  },
  {
   "cell_type": "code",
   "execution_count": 25,
   "metadata": {},
   "outputs": [],
   "source": [
    "import torch.nn as nn\n",
    "\n",
    "class TextCNN(nn.Module):\n",
    "    def __init__(self, vocab_size, embedding_dim, n_filters, filter_sizes, output_dim, dropout):\n",
    "        super().__init__()\n",
    "        self.embedding = nn.Embedding(vocab_size, embedding_dim)\n",
    "        self.convs = nn.ModuleList([\n",
    "            nn.Conv2d(in_channels=1, out_channels=n_filters, kernel_size=(fs, embedding_dim))\n",
    "            for fs in filter_sizes\n",
    "        ])\n",
    "        self.fc = nn.Linear(len(filter_sizes) * n_filters, output_dim)\n",
    "        self.dropout = nn.Dropout(dropout)\n",
    "\n",
    "    def forward(self, text):\n",
    "        embedded = self.embedding(text)\n",
    "        embedded = embedded.unsqueeze(1)\n",
    "        conved = [nn.functional.relu(conv(embedded)).squeeze(3) for conv in self.convs]\n",
    "        pooled = [nn.functional.max_pool1d(conv, conv.shape[2]).squeeze(2) for conv in conved]\n",
    "        cat = self.dropout(torch.cat(pooled, dim=1))\n",
    "\n",
    "        return self.fc(cat)"
   ]
  },
  {
   "attachments": {},
   "cell_type": "markdown",
   "metadata": {},
   "source": [
    "#### 5.4.2 Define hyperparameters and initialise model"
   ]
  },
  {
   "cell_type": "code",
   "execution_count": 26,
   "metadata": {},
   "outputs": [
    {
     "name": "stdout",
     "output_type": "stream",
     "text": [
      "Model architecture:\n",
      " TextCNN(\n",
      "  (embedding): Embedding(80800, 20)\n",
      "  (convs): ModuleList(\n",
      "    (0): Conv2d(1, 10, kernel_size=(3, 20), stride=(1, 1))\n",
      "    (1): Conv2d(1, 10, kernel_size=(4, 20), stride=(1, 1))\n",
      "    (2): Conv2d(1, 10, kernel_size=(5, 20), stride=(1, 1))\n",
      "  )\n",
      "  (fc): Linear(in_features=30, out_features=1, bias=True)\n",
      "  (dropout): Dropout(p=0.2, inplace=False)\n",
      ")\n",
      "\n",
      "The model has 1618461 trainable parameters\n"
     ]
    }
   ],
   "source": [
    "\n",
    "BATCH_SIZE = 64\n",
    "EMBEDDING_DIM = 20\n",
    "N_FILTERS = 10\n",
    "FILTER_SIZES = [3, 4, 5]\n",
    "OUTPUT_DIM = 1\n",
    "DROPOUT = 0.2\n",
    "\n",
    "INPUT_DIM = len(TEXT.vocab)\n",
    "PAD_IDX = TEXT.vocab.stoi[TEXT.pad_token]\n",
    "\n",
    "model_cnn = TextCNN(INPUT_DIM, EMBEDDING_DIM, N_FILTERS, FILTER_SIZES, OUTPUT_DIM, DROPOUT)\n",
    "\n",
    "print(\"Model architecture:\\n\",model_cnn) # Print model's architecture\n",
    "\n",
    "def count_parameters(model): # Computes the number of trainable parameters in the model\n",
    "    return sum(p.numel() for p in model.parameters() if p.requires_grad)\n",
    "\n",
    "print(\"\\nThe model has\",count_parameters(model_cnn),\"trainable parameters\")"
   ]
  },
  {
   "attachments": {},
   "cell_type": "markdown",
   "metadata": {},
   "source": [
    "#### 5.4.3 Define the optimiser, loss function and performance metric"
   ]
  },
  {
   "cell_type": "code",
   "execution_count": 27,
   "metadata": {},
   "outputs": [],
   "source": [
    "import torch.optim as optim\n",
    "\n",
    "optimizer = optim.Adam(model_cnn.parameters())\n",
    "criterion = nn.BCEWithLogitsLoss()\n",
    "\n",
    "def binary_accuracy(predictions, y):\n",
    "    rounded_preds = torch.round(torch.sigmoid(predictions))\n",
    "    correct = (rounded_preds == y).float()\n",
    "    acc = correct.sum() / len(correct)\n",
    "    return acc\n",
    "\n",
    "model_cnn = model_cnn.to(device)\n",
    "criterion = criterion.to(device)\n"
   ]
  },
  {
   "attachments": {},
   "cell_type": "markdown",
   "metadata": {},
   "source": [
    "#### 5.4.4 Define training function\n"
   ]
  },
  {
   "cell_type": "code",
   "execution_count": 28,
   "metadata": {},
   "outputs": [],
   "source": [
    "def train(model, iterator, optimizer, criterion):\n",
    "    model.train()\n",
    "    epoch_loss = 0\n",
    "    epoch_acc = 0\n",
    "\n",
    "    for batch in iterator:\n",
    "        optimizer.zero_grad()\n",
    "        predictions = model(batch.text[0].to(device)).squeeze(1)\n",
    "        loss = criterion(predictions, batch.label)\n",
    "        acc = binary_accuracy(predictions, batch.label)\n",
    "        loss.backward()\n",
    "        optimizer.step()\n",
    "        epoch_loss += loss.item()\n",
    "        epoch_acc += acc.item()\n",
    "\n",
    "    return epoch_loss / len(iterator), epoch_acc / len(iterator)\n"
   ]
  },
  {
   "attachments": {},
   "cell_type": "markdown",
   "metadata": {},
   "source": [
    "#### 5.4.5 Define evaluation function"
   ]
  },
  {
   "cell_type": "code",
   "execution_count": 29,
   "metadata": {},
   "outputs": [],
   "source": [
    "def evaluate(model, iterator, criterion):\n",
    "    model.eval()\n",
    "    epoch_loss = 0\n",
    "    epoch_acc = 0\n",
    "\n",
    "    with torch.no_grad():\n",
    "        for batch in iterator:\n",
    "            predictions = model(batch.text[0].to(device)).squeeze(1)\n",
    "            loss = criterion(predictions, batch.label)\n",
    "            acc = binary_accuracy(predictions, batch.label)\n",
    "            epoch_loss += loss.item()\n",
    "            epoch_acc += acc.item()\n",
    "\n",
    "    return epoch_loss / len(iterator), epoch_acc / len(iterator)"
   ]
  },
  {
   "attachments": {},
   "cell_type": "markdown",
   "metadata": {},
   "source": [
    "### 5.5. Train CNN model"
   ]
  },
  {
   "cell_type": "code",
   "execution_count": 30,
   "metadata": {},
   "outputs": [
    {
     "name": "stdout",
     "output_type": "stream",
     "text": [
      "Epoch   0: Train loss: 0.632 | Train accuracy: 61.76% Validation loss: 0.439 | Validation accuracy: 82.97% - 7.32 s\n",
      "Epoch   1: Train loss: 0.412 | Train accuracy: 80.83% Validation loss: 0.315 | Validation accuracy: 87.60% - 7.34 s\n",
      "Epoch   2: Train loss: 0.311 | Train accuracy: 87.07% Validation loss: 0.190 | Validation accuracy: 93.64% - 7.34 s\n",
      "Epoch   3: Train loss: 0.221 | Train accuracy: 91.53% Validation loss: 0.155 | Validation accuracy: 94.31% - 7.32 s\n",
      "Epoch   4: Train loss: 0.184 | Train accuracy: 93.09% Validation loss: 0.136 | Validation accuracy: 94.90% - 7.28 s\n",
      "Epoch   5: Train loss: 0.152 | Train accuracy: 94.30% Validation loss: 0.122 | Validation accuracy: 95.31% - 7.31 s\n",
      "Epoch   6: Train loss: 0.131 | Train accuracy: 95.23% Validation loss: 0.117 | Validation accuracy: 95.69% - 7.32 s\n",
      "Epoch   7: Train loss: 0.113 | Train accuracy: 96.06% Validation loss: 0.105 | Validation accuracy: 95.96% - 7.63 s\n",
      "Epoch   8: Train loss: 0.101 | Train accuracy: 96.32% Validation loss: 0.102 | Validation accuracy: 96.27% - 7.71 s\n",
      "Epoch   9: Train loss: 0.088 | Train accuracy: 96.90% Validation loss: 0.100 | Validation accuracy: 96.41% - 7.62 s\n",
      "Epoch  10: Train loss: 0.075 | Train accuracy: 97.27% Validation loss: 0.096 | Validation accuracy: 96.57% - 7.46 s\n",
      "Epoch  11: Train loss: 0.060 | Train accuracy: 97.90% Validation loss: 0.098 | Validation accuracy: 96.55% - 7.30 s\n",
      "Epoch  12: Train loss: 0.056 | Train accuracy: 98.09% Validation loss: 0.096 | Validation accuracy: 96.62% - 7.22 s\n",
      "Epoch  13: Train loss: 0.043 | Train accuracy: 98.67% Validation loss: 0.098 | Validation accuracy: 96.55% - 7.59 s\n",
      "Epoch  14: Train loss: 0.038 | Train accuracy: 98.71% Validation loss: 0.104 | Validation accuracy: 96.55% - 7.31 s\n",
      "Epoch  15: Train loss: 0.034 | Train accuracy: 98.97% Validation loss: 0.100 | Validation accuracy: 96.62% - 7.38 s\n",
      "Epoch  16: Train loss: 0.028 | Train accuracy: 99.21% Validation loss: 0.103 | Validation accuracy: 96.46% - 7.37 s\n",
      "Epoch  17: Train loss: 0.024 | Train accuracy: 99.25% Validation loss: 0.103 | Validation accuracy: 96.52% - 7.30 s\n",
      "Epoch  18: Train loss: 0.020 | Train accuracy: 99.43% Validation loss: 0.106 | Validation accuracy: 96.67% - 7.21 s\n",
      "Epoch  19: Train loss: 0.016 | Train accuracy: 99.50% Validation loss: 0.108 | Validation accuracy: 96.59% - 7.38 s\n",
      "\n",
      "Best performance at epoch 12 | Loss: 0.096 | Accuracy: 0.9662\n"
     ]
    }
   ],
   "source": [
    "import time \n",
    "N_EPOCHS = 20\n",
    "\n",
    "best_valid_loss = float('inf')\n",
    "\n",
    "for epoch in range(N_EPOCHS):\n",
    "    print(\"Epoch %3d:\" % epoch,end='') \n",
    "    start = time.time() \n",
    "\n",
    "    train_loss, train_acc = train(model_cnn, training_iterator, optimizer, criterion)\n",
    "    valid_loss, valid_acc = evaluate(model_cnn, test_iterator, criterion)\n",
    "\n",
    "    if valid_loss < best_valid_loss:\n",
    "        best_valid_loss = valid_loss\n",
    "        best_valid_acc = valid_acc \n",
    "        best_epoch = epoch \n",
    "        torch.save(model_cnn.state_dict(), 'model_cnn_fakenews.pt')\n",
    "\n",
    "    print(f\" Train loss: {train_loss:.3f} | Train accuracy: {train_acc*100:.2f}%\",end=\"\")\n",
    "    print(f\" Validation loss: {valid_loss:.3f} | Validation accuracy: {valid_acc*100:.2f}%\", end='')\n",
    "    print(\" - %3.2f s\" % (time.time()-start))\n",
    "\n",
    "print(f\"\\nBest performance at epoch {best_epoch:d} | Loss: {best_valid_loss:.3f} | Accuracy: {best_valid_acc:3.4f}\")\n"
   ]
  },
  {
   "attachments": {},
   "cell_type": "markdown",
   "metadata": {},
   "source": [
    "### 5.6. Computation and plotting of CNN’s classification performance"
   ]
  },
  {
   "cell_type": "code",
   "execution_count": 31,
   "metadata": {},
   "outputs": [
    {
     "data": {
      "image/png": "[encoded data removed]",
      "text/plain": [
       "<Figure size 640x480 with 2 Axes>"
      ]
     },
     "metadata": {},
     "output_type": "display_data"
    },
    {
     "name": "stdout",
     "output_type": "stream",
     "text": [
      "Accuracy:\t0.965911\n",
      "F1-score:\t0.965888\n",
      "Precision:\t0.965880\n",
      "Recall:\t\t0.965896\n",
      "\n",
      "Classification performance:\n",
      "              precision    recall  f1-score   support\n",
      "\n",
      "         0.0       0.97      0.97      0.97      3101\n",
      "         1.0       0.96      0.97      0.97      2942\n",
      "\n",
      "    accuracy                           0.97      6043\n",
      "   macro avg       0.97      0.97      0.97      6043\n",
      "weighted avg       0.97      0.97      0.97      6043\n",
      "\n"
     ]
    }
   ],
   "source": [
    "from sklearn.metrics import confusion_matrix\n",
    "import matplotlib.pyplot as plt\n",
    "\n",
    "model_cnn.eval()\n",
    "pred_labels = []\n",
    "true_labels = []\n",
    "\n",
    "with torch.no_grad():\n",
    "    for batch in test_iterator:\n",
    "        predictions = model_cnn(batch.text[0]).squeeze(1)\n",
    "        pred = torch.round(torch.sigmoid(predictions))\n",
    "        pred_labels += pred.tolist()\n",
    "        true_labels += batch.label.tolist()\n",
    "\n",
    "mat = confusion_matrix(true_labels, pred_labels)\n",
    "sns.heatmap(mat.T, square=True, annot=True, fmt='d')\n",
    "plt.xlabel(\"True label\")\n",
    "plt.ylabel(\"Predicted label\")\n",
    "plt.show()\n",
    "\n",
    "# Compute and print classification performance metrics\n",
    "print(f\"Accuracy:\\t{accuracy_score(true_labels, pred_labels):f}\")\n",
    "print(f\"F1-score:\\t{f1_score(true_labels, pred_labels, average='macro'):f}\")\n",
    "print(f\"Precision:\\t{precision_score(true_labels, pred_labels,average='macro'):f}\")\n",
    "print(f\"Recall:\\t\\t{recall_score(true_labels, pred_labels,average='macro'):f}\")\n",
    "\n",
    "print(f'\\nClassification performance:\\n{classification_report(true_labels, pred_labels)}')"
   ]
  },
  {
   "attachments": {},
   "cell_type": "markdown",
   "metadata": {},
   "source": [
    "## 6. a Long Short-Term Memory (LSTM) model\n",
    "### 6.1 Create Pytorch dataset (Training data and Test data) for LSTM model"
   ]
  },
  {
   "cell_type": "code",
   "execution_count": 32,
   "metadata": {},
   "outputs": [
    {
     "name": "stdout",
     "output_type": "stream",
     "text": [
      "Training samples: 14099\n",
      "Test samples: 6043\n",
      "uk government hosts europe s largest jew hate event allegedly linked to terror a government building in westminster is hosting the biggest ever in europe event organised by a group allegedly linked to islamists and terror groups palestine expo is due to take place just yards away from parliament in the queen elizabeth ii centre which is owned by the government and operated by an agency of the department for communities and local government the building was reportedly one of those considered as a venue to host parliament itself when the palace of westminster is closed for renovations although presented as a introduction to palestinian history and culture the event will host islamist and speakers and has been described as a jew hate event by jewish groups be there get your earlybird tickets now offer ends may https freepalestine bds endoccupation freegaza pic twitter friends of al aqsa friendsofalaqsa may the event to be held on the and of july has been organised by the friends of foa which claims it is concerned with defending the human rights of palestinians and protecting the sacred sanctuary in jerusalem the group however is allegedly linked to the hamas terror group has supported islamists funded by iran s khomenist regime and openly publishes the work of paul eisen described as a holocaust denier by papers such as the guardian the group s founder and chair ismail patel was a supporter of the late french holocaust denier roger garaudy has been pictured with hamas leaders at a rally mr patel told the crowd hamas is no terrorist organisation the reason they hate hamas is because they refuse to be subjugated occupied by the israeli state and we salute hamas for standing up to israel to the state of israel you no longer represent the\n",
      "new memoirs show how the other half lives the new york times it might be said that the presidential candidacy of donald trump has something in common with hurricane katrina in exposing how a major american city can share traits with the developing world the storm broke apart one of america s prevailing ideas about itself the myth that for all our inequities and intractable social blights this is still fundamentally a land of equal opportunity trump through sheer dint of his own bluster has conducted his own version of this by forcing liberal types to reckon with a demographic they had long dismissed as a punch line uneducated whites in economically depleted regions he awakened them to the fact that the groovy progressive social values they had assumed were a national fait accompli were actually only half the story j d vance a son of appalachian poverty who eventually graduated from yale law school and now works in silicon valley has found himself lately in the position of both telling that story and translating its political nuances into terms easily understood by coastal elites more accustomed to caricatures his hillbilly elegy a memoir of a family and culture in crisis is an affectionate yet unflinching look at growing up in social and domestic chaos in southwestern ohio since his people originally come from kentucky coal country vance claims the right to call himself a hillbilly he does so with pride but his family dysfunction is baroque to say the least his mother nearly kills him yet he refuses to testify against her in court in order to spare her jail time his grandmother who s the most stable force in his life is famous for having poured gasoline on his grandfather and dropping a lighted match on his chest\n"
     ]
    }
   ],
   "source": [
    "def truncate_text_to_max_words(text,max_words): # Keep only the first max_words of each text \n",
    "    text = text.split(maxsplit=max_words) \n",
    "    text = ' '.join(text[:max_words]) \n",
    "    return text \n",
    "\n",
    "max_words = 300\n",
    "\n",
    "training_data = pd.DataFrame({'alltext':samples_train, 'label': labels_train})\n",
    "test_data = pd.DataFrame({'alltext':samples_test,'label':labels_test})\n",
    "\n",
    "training_data['alltext'] = training_data['alltext'].apply(truncate_text_to_max_words,args=(max_words,))\n",
    "test_data['alltext'] = test_data['alltext'].apply(truncate_text_to_max_words,args=(max_words,))\n",
    "\n",
    "print(\"Training samples:\",len(training_data['alltext'])) \n",
    "print(\"Test samples:\",len(test_data['alltext']))\n",
    "\n",
    "print(training_data['alltext'].iloc[0]) # Print first text as an example \n",
    "print(test_data['alltext'].iloc[0]) # Print first text as an example \n",
    "\n",
    "training_data.to_csv('training_data.csv',index=False)\n",
    "test_data.to_csv('test_data.csv',index=False)"
   ]
  },
  {
   "cell_type": "code",
   "execution_count": 33,
   "metadata": {},
   "outputs": [
    {
     "name": "stdout",
     "output_type": "stream",
     "text": [
      "{'text': ['uk', 'government', 'hosts', 'europe', 's', 'largest', 'jew', 'hate', 'event', 'allegedly', 'linked', 'to', 'terror', 'a', 'government', 'building', 'in', 'westminster', 'is', 'hosting', 'the', 'biggest', 'ever', 'in', 'europe', 'event', 'organised', 'by', 'a', 'group', 'allegedly', 'linked', 'to', 'islamists', 'and', 'terror', 'groups', 'palestine', 'expo', 'is', 'due', 'to', 'take', 'place', 'just', 'yards', 'away', 'from', 'parliament', 'in', 'the', 'queen', 'elizabeth', 'ii', 'centre', 'which', 'is', 'owned', 'by', 'the', 'government', 'and', 'operated', 'by', 'an', 'agency', 'of', 'the', 'department', 'for', 'communities', 'and', 'local', 'government', 'the', 'building', 'was', 'reportedly', 'one', 'of', 'those', 'considered', 'as', 'a', 'venue', 'to', 'host', 'parliament', 'itself', 'when', 'the', 'palace', 'of', 'westminster', 'is', 'closed', 'for', 'renovations', 'although', 'presented', 'as', 'a', 'introduction', 'to', 'palestinian', 'history', 'and', 'culture', 'the', 'event', 'will', 'host', 'islamist', 'and', 'speakers', 'and', 'has', 'been', 'described', 'as', 'a', 'jew', 'hate', 'event', 'by', 'jewish', 'groups', 'be', 'there', 'get', 'your', 'earlybird', 'tickets', 'now', 'offer', 'ends', 'may', 'https', 'freepalestine', 'bds', 'endoccupation', 'freegaza', 'pic', 'twitter', 'friends', 'of', 'al', 'aqsa', 'friendsofalaqsa', 'may', 'the', 'event', 'to', 'be', 'held', 'on', 'the', 'and', 'of', 'july', 'has', 'been', 'organised', 'by', 'the', 'friends', 'of', 'foa', 'which', 'claims', 'it', 'is', 'concerned', 'with', 'defending', 'the', 'human', 'rights', 'of', 'palestinians', 'and', 'protecting', 'the', 'sacred', 'sanctuary', 'in', 'jerusalem', 'the', 'group', 'however', 'is', 'allegedly', 'linked', 'to', 'the', 'hamas', 'terror', 'group', 'has', 'supported', 'islamists', 'funded', 'by', 'iran', 's', 'khomenist', 'regime', 'and', 'openly', 'publishes', 'the', 'work', 'of', 'paul', 'eisen', 'described', 'as', 'a', 'holocaust', 'denier', 'by', 'papers', 'such', 'as', 'the', 'guardian', 'the', 'group', 's', 'founder', 'and', 'chair', 'ismail', 'patel', 'was', 'a', 'supporter', 'of', 'the', 'late', 'french', 'holocaust', 'denier', 'roger', 'garaudy', 'has', 'been', 'pictured', 'with', 'hamas', 'leaders', 'at', 'a', 'rally', 'mr', 'patel', 'told', 'the', 'crowd', 'hamas', 'is', 'no', 'terrorist', 'organisation', 'the', 'reason', 'they', 'hate', 'hamas', 'is', 'because', 'they', 'refuse', 'to', 'be', 'subjugated', 'occupied', 'by', 'the', 'israeli', 'state', 'and', 'we', 'salute', 'hamas', 'for', 'standing', 'up', 'to', 'israel', 'to', 'the', 'state', 'of', 'israel', 'you', 'no', 'longer', 'represent', 'the'], 'label': '0'}\n",
      "{'text': ['new', 'memoirs', 'show', 'how', 'the', 'other', 'half', 'lives', 'the', 'new', 'york', 'times', 'it', 'might', 'be', 'said', 'that', 'the', 'presidential', 'candidacy', 'of', 'donald', 'trump', 'has', 'something', 'in', 'common', 'with', 'hurricane', 'katrina', 'in', 'exposing', 'how', 'a', 'major', 'american', 'city', 'can', 'share', 'traits', 'with', 'the', 'developing', 'world', 'the', 'storm', 'broke', 'apart', 'one', 'of', 'america', 's', 'prevailing', 'ideas', 'about', 'itself', 'the', 'myth', 'that', 'for', 'all', 'our', 'inequities', 'and', 'intractable', 'social', 'blights', 'this', 'is', 'still', 'fundamentally', 'a', 'land', 'of', 'equal', 'opportunity', 'trump', 'through', 'sheer', 'dint', 'of', 'his', 'own', 'bluster', 'has', 'conducted', 'his', 'own', 'version', 'of', 'this', 'by', 'forcing', 'liberal', 'types', 'to', 'reckon', 'with', 'a', 'demographic', 'they', 'had', 'long', 'dismissed', 'as', 'a', 'punch', 'line', 'uneducated', 'whites', 'in', 'economically', 'depleted', 'regions', 'he', 'awakened', 'them', 'to', 'the', 'fact', 'that', 'the', 'groovy', 'progressive', 'social', 'values', 'they', 'had', 'assumed', 'were', 'a', 'national', 'fait', 'accompli', 'were', 'actually', 'only', 'half', 'the', 'story', 'j', 'd', 'vance', 'a', 'son', 'of', 'appalachian', 'poverty', 'who', 'eventually', 'graduated', 'from', 'yale', 'law', 'school', 'and', 'now', 'works', 'in', 'silicon', 'valley', 'has', 'found', 'himself', 'lately', 'in', 'the', 'position', 'of', 'both', 'telling', 'that', 'story', 'and', 'translating', 'its', 'political', 'nuances', 'into', 'terms', 'easily', 'understood', 'by', 'coastal', 'elites', 'more', 'accustomed', 'to', 'caricatures', 'his', 'hillbilly', 'elegy', 'a', 'memoir', 'of', 'a', 'family', 'and', 'culture', 'in', 'crisis', 'is', 'an', 'affectionate', 'yet', 'unflinching', 'look', 'at', 'growing', 'up', 'in', 'social', 'and', 'domestic', 'chaos', 'in', 'southwestern', 'ohio', 'since', 'his', 'people', 'originally', 'come', 'from', 'kentucky', 'coal', 'country', 'vance', 'claims', 'the', 'right', 'to', 'call', 'himself', 'a', 'hillbilly', 'he', 'does', 'so', 'with', 'pride', 'but', 'his', 'family', 'dysfunction', 'is', 'baroque', 'to', 'say', 'the', 'least', 'his', 'mother', 'nearly', 'kills', 'him', 'yet', 'he', 'refuses', 'to', 'testify', 'against', 'her', 'in', 'court', 'in', 'order', 'to', 'spare', 'her', 'jail', 'time', 'his', 'grandmother', 'who', 's', 'the', 'most', 'stable', 'force', 'in', 'his', 'life', 'is', 'famous', 'for', 'having', 'poured', 'gasoline', 'on', 'his', 'grandfather', 'and', 'dropping', 'a', 'lighted', 'match', 'on', 'his', 'chest'], 'label': '0'}\n"
     ]
    }
   ],
   "source": [
    "import torch \n",
    "from torchtext.legacy import data #For handling text data\n",
    "from nltk import word_tokenize # Import the word_tokenize function from NLTK\n",
    "\n",
    "TEXT = data.Field(tokenize=word_tokenize, batch_first=True, include_lengths=True)  # Create text field for dataset\n",
    "LABEL = data.LabelField(dtype=torch.float, batch_first = True) # Create label field for dataset\n",
    "\n",
    "fields = [('text',TEXT),('label', LABEL)]\n",
    "\n",
    "training_data=data.TabularDataset(path = 'training_data.csv',format = 'csv',fields = fields,skip_header = True) # Load dataset from csv file \n",
    "test_data=data.TabularDataset(path = 'test_data.csv',format = 'csv',fields = fields,skip_header = True) # Load dataset from csv file \n",
    "\n",
    "print(vars(training_data.examples[0])) # Print first text as an example\n",
    "print(vars(test_data.examples[0])) # Print first text as an example"
   ]
  },
  {
   "cell_type": "markdown",
   "metadata": {},
   "source": [
    "### 6.2. Create vocabulary using the training set"
   ]
  },
  {
   "cell_type": "code",
   "execution_count": 34,
   "metadata": {},
   "outputs": [
    {
     "name": "stdout",
     "output_type": "stream",
     "text": [
      "Size of TEXT vocabulary: 80800\n",
      "Size of LABEL vocabulary: 2 \n",
      "\n",
      "Most common tokens: [('the', 223887), ('to', 99555), ('of', 99369), ('a', 87289), ('and', 85749), ('in', 73621), ('that', 46972), ('s', 40680), ('on', 35998), ('is', 35495)] \n",
      "\n",
      "Index of unknown word <unk>: 0\n",
      "Index of padding word <pad>: 1\n"
     ]
    }
   ],
   "source": [
    "TEXT.build_vocab(training_data,min_freq=1) # Build vocabulary from training set. Consider words that occur at least 1 time\n",
    "LABEL.build_vocab(training_data) # Build vocabulary for labels\n",
    "\n",
    "print(\"Size of TEXT vocabulary:\",len(TEXT.vocab)) # Number of unique tokens in vocabulary\n",
    "print(\"Size of LABEL vocabulary:\",len(LABEL.vocab),\"\\n\") # Number of unique labels\n",
    "\n",
    "print(\"Most common tokens:\",TEXT.vocab.freqs.most_common(10),\"\\n\") # Print the 10 most common tokens in the training set\n",
    "\n",
    "# Print the index number for the unknown token (<unk>) and the token used for padding (<pad>)\n",
    "print(\"Index of unknown word <unk>:\",TEXT.vocab.stoi['<unk>'])\n",
    "print(\"Index of padding word <pad>:\",TEXT.vocab.stoi['<pad>'])"
   ]
  },
  {
   "cell_type": "markdown",
   "metadata": {},
   "source": [
    "### 6.3. Create iterators for the training and test data"
   ]
  },
  {
   "cell_type": "code",
   "execution_count": 35,
   "metadata": {},
   "outputs": [
    {
     "name": "stdout",
     "output_type": "stream",
     "text": [
      "Device: cpu\n"
     ]
    }
   ],
   "source": [
    "import random \n",
    "RANDOM_SEED = 19\n",
    "\n",
    "device = torch.device('cuda' if torch.cuda.is_available() else 'cpu') #Set device to GPU if cuda available, else CPU\n",
    "print(\"Device:\",device)\n",
    "\n",
    "torch.manual_seed(RANDOM_SEED) \n",
    "BATCH_SIZE = 64 #Set batch size for training\n",
    "\n",
    "# Create data iterator for training and test sets\n",
    "training_iterator, test_iterator = data.BucketIterator.splits( \n",
    "    (training_data, test_data), \n",
    "    batch_size = BATCH_SIZE, \n",
    "    sort_key = lambda x: len(x.text), \n",
    "    sort_within_batch=True, \n",
    "    device = device)"
   ]
  },
  {
   "attachments": {},
   "cell_type": "markdown",
   "metadata": {},
   "source": [
    "### 6.4. Create LSTM architecture\n",
    "#### 6.4.1. Define network architecture"
   ]
  },
  {
   "cell_type": "code",
   "execution_count": 36,
   "metadata": {},
   "outputs": [],
   "source": [
    "import torch.nn as nn\n",
    "\n",
    "class FakeNewsNet(nn.Module):\n",
    "    def __init__(self, vocab_size, embedding_dim, hidden_dim, output_dim, n_layers, bidirectional, dropout):\n",
    "        super().__init__()\n",
    "        self.embedding = nn.Embedding(vocab_size, embedding_dim) # Word embedding layer\n",
    "        self.lstm = nn.LSTM(embedding_dim, hidden_dim, num_layers=n_layers, bidirectional=bidirectional, dropout=dropout, batch_first=True) # LSTM layer\n",
    "        self.fc1 = nn.Linear(hidden_dim * 2, output_dim) # Dense layer\n",
    "        self.act = nn.Sigmoid()\n",
    "    \n",
    "    def forward(self, text, text_lengths):\n",
    "        embedded = self.embedding(text) # Create embedding of the input text\n",
    "        # Handle padding to ignore padding during training of the RNN\n",
    "        packed_embedded = nn.utils.rnn.pack_padded_sequence(embedded, text_lengths,batch_first=True) \n",
    "        packed_output, (hidden, cell) = self.lstm(packed_embedded)\n",
    "\n",
    "        hidden = torch.cat((hidden[-2,:,:], hidden[-1,:,:]), dim = 1) # Concatenate the final forward and backward hidden state\n",
    "        dense_outputs=self.fc1(hidden)\n",
    "        outputs=self.act(dense_outputs) # Apply sigmoid activation function to output\n",
    "\n",
    "        return outputs\n"
   ]
  },
  {
   "attachments": {},
   "cell_type": "markdown",
   "metadata": {},
   "source": [
    "#### 6.4.2 Define hyperparameters and initialise model"
   ]
  },
  {
   "cell_type": "code",
   "execution_count": 37,
   "metadata": {},
   "outputs": [
    {
     "name": "stdout",
     "output_type": "stream",
     "text": [
      "Model architecture:\n",
      " FakeNewsNet(\n",
      "  (embedding): Embedding(80800, 20)\n",
      "  (lstm): LSTM(20, 16, num_layers=2, batch_first=True, dropout=0.2, bidirectional=True)\n",
      "  (fc1): Linear(in_features=32, out_features=1, bias=True)\n",
      "  (act): Sigmoid()\n",
      ")\n",
      "\n",
      "The model has 1627297 trainable parameters\n"
     ]
    }
   ],
   "source": [
    "# Set hyperparameters for network architecture and training\n",
    "vocabulary_size = len(TEXT.vocab)\n",
    "embedding_dimensions = 20 # Set to 20 for faster computations. Larger numbers typically required. I tried 50, it took too long much time.\n",
    "LSTM_no_of_hidden_nodes = 16 # The number of features in the hidden state h of the LSTM\n",
    "LSTM_no_of_recurrent_layers = 2 # Number of recurrent layers for RNN (to be stacked)\n",
    "LSTM_bidirection = True # Set to True for bidirectional LSTM (BiLSTM)\n",
    "LSTM_dropout = 0.2 # If not 0, introduces a dropout layer in the output of the LSTM\n",
    "output_size = 1 # Size of output layer\n",
    "\n",
    "# Initialise the model\n",
    "model_lstm = FakeNewsNet(vocabulary_size, embedding_dimensions, LSTM_no_of_hidden_nodes, output_size, LSTM_no_of_recurrent_layers, bidirectional = LSTM_bidirection,dropout = LSTM_dropout)\n",
    "\n",
    "print(\"Model architecture:\\n\",model_lstm) # Print model's architecture\n",
    "\n",
    "def count_parameters(model): # Computes the number of trainable parameters in the model\n",
    "    return sum(p.numel() for p in model.parameters() if p.requires_grad)\n",
    "\n",
    "print(\"\\nThe model has\",count_parameters(model_lstm),\"trainable parameters\")"
   ]
  },
  {
   "cell_type": "markdown",
   "metadata": {},
   "source": [
    "#### 6.4.3 Define the optimiser, loss function and performance metric"
   ]
  },
  {
   "cell_type": "code",
   "execution_count": 38,
   "metadata": {},
   "outputs": [],
   "source": [
    "import torch.optim as optim\n",
    "\n",
    "optimizer = optim.Adam(model_lstm.parameters()) # Use the Adam optimiser\n",
    "criterion = nn.BCELoss() # Use Binary Cross Entropy between the target and the output as the loss function\n",
    "\n",
    "# Define binary accuracy metric\n",
    "def binary_accuracy(preds, y):\n",
    "    rounded_preds = torch.round(preds) # Round predictions to the closest integer\n",
    "    correct = (rounded_preds == y).float()\n",
    "    acc = correct.sum() / len(correct)\n",
    "    return acc\n",
    "\n",
    "# Sent model to device\n",
    "model_lstm = model_lstm.to(device) \n",
    "criterion = criterion.to(device)"
   ]
  },
  {
   "cell_type": "markdown",
   "metadata": {},
   "source": [
    "#### 6.4.4 Define training function\n"
   ]
  },
  {
   "cell_type": "code",
   "execution_count": 39,
   "metadata": {},
   "outputs": [],
   "source": [
    "def train(model, iterator, optimizer, criterion): \n",
    "    epoch_loss = 0 \n",
    "    epoch_acc = 0 \n",
    "    model.train() # Set the model in training phase\n",
    "    for batch in iterator:\n",
    "        optimizer.zero_grad() # Reset the gradients after every batch \n",
    "        text, text_lengths = batch.text # Retrieve text and number of words \n",
    "        predictions = model(text, text_lengths).squeeze() # Convert to 1D tensor \n",
    "        loss = criterion(predictions, batch.label) # Compute the loss \n",
    "        acc = binary_accuracy(predictions, batch.label) # Compute the binary accuracy \n",
    "        loss.backward() # Backpropagation \n",
    "        optimizer.step() # Update the weights \n",
    "        # Update epoch's loss and accuracy \n",
    "        epoch_loss += loss.item() \n",
    "        epoch_acc += acc.item() \n",
    "    return epoch_loss / len(iterator), epoch_acc / len(iterator)"
   ]
  },
  {
   "cell_type": "markdown",
   "metadata": {},
   "source": [
    "#### 6.4.5 Define evaluation function"
   ]
  },
  {
   "cell_type": "code",
   "execution_count": 40,
   "metadata": {},
   "outputs": [],
   "source": [
    "def evaluate(model, iterator, criterion): \n",
    "    epoch_loss = 0\n",
    "    epoch_acc = 0 \n",
    "    model.eval() # Set the model in evaluation phase \n",
    "    with torch.no_grad(): #Deactivates autograd \n",
    "        for batch in iterator: \n",
    "            text, text_lengths = batch.text # Retrieve text and number of words \n",
    "            predictions = model(text, text_lengths).squeeze() # Convert to 1d tensor \n",
    "            loss = criterion(predictions, batch.label) # Compute loss and accuracy \n",
    "            acc = binary_accuracy(predictions, batch.label) \n",
    "            # Update epoch's loss and accuracy \n",
    "            epoch_loss += loss.item() \n",
    "            epoch_acc += acc.item() \n",
    "        return epoch_loss / len(iterator), epoch_acc / len(iterator)"
   ]
  },
  {
   "cell_type": "markdown",
   "metadata": {},
   "source": [
    "### 6.5. Train LSTM model"
   ]
  },
  {
   "cell_type": "code",
   "execution_count": 41,
   "metadata": {},
   "outputs": [
    {
     "name": "stdout",
     "output_type": "stream",
     "text": [
      "Epoch   0: Train loss: 0.682 | Train acuracy: 0.5484 | Validation loss: 0.580 | Validation acuracy: 0.7501 - 175.84 s\n",
      "Epoch   1: Train loss: 0.342 | Train acuracy: 0.8638 | Validation loss: 0.262 | Validation acuracy: 0.9004 - 178.06 s\n",
      "Epoch   2: Train loss: 0.246 | Train acuracy: 0.9157 | Validation loss: 0.216 | Validation acuracy: 0.9212 - 177.76 s\n",
      "Epoch   3: Train loss: 0.154 | Train acuracy: 0.9468 | Validation loss: 0.187 | Validation acuracy: 0.9302 - 171.66 s\n",
      "Epoch   4: Train loss: 0.114 | Train acuracy: 0.9593 | Validation loss: 0.174 | Validation acuracy: 0.9372 - 169.59 s\n",
      "Epoch   5: Train loss: 0.085 | Train acuracy: 0.9726 | Validation loss: 0.185 | Validation acuracy: 0.9335 - 169.83 s\n",
      "Epoch   6: Train loss: 0.067 | Train acuracy: 0.9791 | Validation loss: 0.159 | Validation acuracy: 0.9463 - 168.28 s\n",
      "Epoch   7: Train loss: 0.049 | Train acuracy: 0.9860 | Validation loss: 0.161 | Validation acuracy: 0.9444 - 169.21 s\n",
      "Epoch   8: Train loss: 0.039 | Train acuracy: 0.9892 | Validation loss: 0.167 | Validation acuracy: 0.9462 - 178.99 s\n",
      "Epoch   9: Train loss: 0.035 | Train acuracy: 0.9902 | Validation loss: 0.167 | Validation acuracy: 0.9494 - 171.96 s\n",
      "\n",
      "Best performance at epoch 6 | Loss: 0.159 | Accuracy: 0.9463\n"
     ]
    }
   ],
   "source": [
    "import time \n",
    "N_EPOCHS = 10 # I tried 25, but it took hours and got little.\n",
    "best_valid_loss = float('inf') \n",
    "best_valid_acc = float('inf') \n",
    "best_epoch = 0\n",
    "\n",
    "for epoch in range(N_EPOCHS): \n",
    "    print(\"Epoch %3d:\" % epoch,end='') \n",
    "    start = time.time() \n",
    "    #train the model \n",
    "    train_loss, train_acc = train(model_lstm, training_iterator, optimizer, criterion) \n",
    "    #evaluate the model \n",
    "    valid_loss, valid_acc = evaluate(model_lstm, test_iterator, criterion) \n",
    "    #save the best model \n",
    "    if valid_loss < best_valid_loss: \n",
    "        best_valid_loss = valid_loss \n",
    "        best_valid_acc = valid_acc \n",
    "        best_epoch = epoch \n",
    "        torch.save(model_lstm.state_dict(), 'model_lstm_fakenews.pt') # Save weights \n",
    "    print(\" Train loss: %.3f | Train acuracy: %3.4f \" % (train_loss,train_acc),end='') \n",
    "    print(\"| Validation loss: %.3f | Validation acuracy: %3.4f\" % (valid_loss,valid_acc),end='') \n",
    "    print(\" - %3.2f s\" % (time.time()-start))\n",
    "\n",
    "print(\"\\nBest performance at epoch %d | Loss: %.3f | Accuracy: %3.4f\" % (best_epoch,best_valid_loss,best_valid_acc))"
   ]
  },
  {
   "cell_type": "markdown",
   "metadata": {},
   "source": [
    "#### I'm confused why the result of training LSTM model does not show after running 28m 51.2s\n",
    "#### But the confusion matrix shows."
   ]
  },
  {
   "cell_type": "code",
   "execution_count": 42,
   "metadata": {},
   "outputs": [
    {
     "data": {
      "image/png": "[encoded data removed]",
      "text/plain": [
       "<Figure size 640x480 with 2 Axes>"
      ]
     },
     "metadata": {},
     "output_type": "display_data"
    },
    {
     "name": "stdout",
     "output_type": "stream",
     "text": [
      "Accuracy:\t0.949363\n",
      "F1-score:\t0.949317\n",
      "Precision:\t0.949428\n",
      "Recall:\t\t0.949232\n",
      "\n",
      "Classification performance:\n",
      "              precision    recall  f1-score   support\n",
      "\n",
      "           0       0.95      0.95      0.95      3101\n",
      "           1       0.95      0.94      0.95      2942\n",
      "\n",
      "    accuracy                           0.95      6043\n",
      "   macro avg       0.95      0.95      0.95      6043\n",
      "weighted avg       0.95      0.95      0.95      6043\n",
      "\n"
     ]
    }
   ],
   "source": [
    "test_data_lstm = pd.read_csv('test_data.csv')\n",
    "\n",
    "test_text = test_data_lstm['alltext'].tolist()\n",
    "\n",
    "\n",
    "def model_lstm_pre(model_lstm, text):\n",
    "    tokenised = [token.lower() for token in word_tokenize(text)]\n",
    "    indexed = [TEXT.vocab.stoi[token] for token in tokenised]\n",
    "    length = [len(indexed)]\n",
    "    tensor = torch.LongTensor(indexed).to(device)\n",
    "    tensor = tensor.unsqueeze(1).T\n",
    "    length_tensor = torch.LongTensor(length)\n",
    "    prediction = model_lstm(tensor, length_tensor)\n",
    "\n",
    "    pred_label = int(round(prediction.item()))\n",
    "    return pred_label\n",
    "\n",
    "labels_true = test_data_lstm['label'].tolist()\n",
    "\n",
    "pred_label = []\n",
    "for i in test_text:\n",
    "    predicted_labels = model_lstm_pre(model_lstm, i)\n",
    "    pred_label.append(predicted_labels)\n",
    "\n",
    "mat = confusion_matrix(labels_true, pred_label)\n",
    "sns.heatmap(mat.T, square=True, annot=True, fmt='d')\n",
    "plt.xlabel(\"True label\")\n",
    "plt.ylabel(\"Predicted label\")\n",
    "plt.show()\n",
    "\n",
    "# Compute and print classification performance metrics\n",
    "print(f\"Accuracy:\\t{accuracy_score(labels_true, pred_label):f}\")\n",
    "print(f\"F1-score:\\t{f1_score(labels_true, pred_label, average='macro'):f}\")\n",
    "print(f\"Precision:\\t{precision_score(labels_true, pred_label,average='macro'):f}\")\n",
    "print(f\"Recall:\\t\\t{recall_score(labels_true, pred_label,average='macro'):f}\")\n",
    "\n",
    "print(f'\\nClassification performance:\\n{classification_report(labels_true, pred_label)}')"
   ]
  },
  {
   "cell_type": "markdown",
   "metadata": {},
   "source": [
    "## 7. a predict-function"
   ]
  },
  {
   "cell_type": "code",
   "execution_count": 43,
   "metadata": {},
   "outputs": [],
   "source": [
    "def predict_reliability(text, model):\n",
    "    \n",
    "    label_names = {0: \"Reliable\",1:\"Unreliable\"}\n",
    "    if model in ['model_bayes_fakenews', 'model_3nn_fakenews', 'model_7nn_fakenews']:\n",
    "        with open(f\"{model}.pkl\",\"rb\") as file:\n",
    "            pickle_model = pickle.load(file)\n",
    "        \n",
    "        tokenised = [text]\n",
    "        predicted_categories = pickle_model.predict(tokenised)\n",
    "        # return predicted_categories\n",
    "\n",
    "        pred_label = label_names[int(round(predicted_categories.item()))]\n",
    "\n",
    "        return pred_label\n",
    "\n",
    "    elif model in ['model_cnn_fakenews']:\n",
    "        model_cnn = TextCNN(len(TEXT.vocab), 20, 10, [3,4,5], 1, 0.2)\n",
    "        model_cnn.load_state_dict(torch.load(f'{model}.pt'))\n",
    "        tokenised = [token for token in word_tokenize(text)]\n",
    "        indexed = [TEXT.vocab.stoi[token] for token in tokenised]\n",
    "        length = [len(indexed)]\n",
    "        tensor = torch.LongTensor(indexed).to(device)\n",
    "        tensor = tensor.unsqueeze(1).T\n",
    "        length_tensor = torch.LongTensor(length)\n",
    "\n",
    "        \n",
    "\n",
    "        with torch.no_grad():\n",
    "            output = model_cnn(tensor)\n",
    "            prediction = torch.sigmoid(output).item()\n",
    "        \n",
    "        pred_label = label_names[int(round(prediction))]\n",
    "\n",
    "        return pred_label\n",
    "    \n",
    "    elif model in ['model_lstm_fakenews']:\n",
    "            \n",
    "        model_lstm = FakeNewsNet(len(TEXT.vocab), 20, 16, 1, 2,True, 0.2)\n",
    "        model_lstm.load_state_dict(torch.load(f'{model}.pt'))\n",
    "        model_lstm.eval()\n",
    "\n",
    "        tokenised = [token.lower() for token in word_tokenize(text)]\n",
    "        indexed = [TEXT.vocab.stoi[token] for token in tokenised]\n",
    "        length = [len(indexed)]\n",
    "        tensor = torch.LongTensor(indexed).to(device)\n",
    "        tensor = tensor.unsqueeze(1).T\n",
    "        length_tensor = torch.LongTensor(length)\n",
    "        prediction = model_lstm(tensor, length_tensor)\n",
    "\n",
    "        pred_label = label_names[int(round(prediction.item()))]\n",
    "\n",
    "        return pred_label\n",
    "    \n",
    "    else:\n",
    "        return ('Please enter the correct model name')\n",
    "    "
   ]
  },
  {
   "cell_type": "code",
   "execution_count": 44,
   "metadata": {},
   "outputs": [
    {
     "data": {
      "text/plain": [
       "'Unreliable'"
      ]
     },
     "execution_count": 44,
     "metadata": {},
     "output_type": "execute_result"
    }
   ],
   "source": [
    "# text = input(\"Please enter the news to be classified here:\")\n",
    "# model = input(\"Please enter the model name here:\")\n",
    "\n",
    "# We can ask the users to enter the news and the model, we just enter the string here for test\n",
    "text = \"Marcus Rashford was on target again as Manchester United cruised into the quarter-finals of the Europa League with a clinical win at Real Betis After an open first half Rashford put United ahead in the 55th minute with a thunderous long-range effort dipping into the bottom corner\"\n",
    "model = 'model_lstm_fakenews'\n",
    "predict_reliability(text, model)"
   ]
  },
  {
   "cell_type": "code",
   "execution_count": 45,
   "metadata": {},
   "outputs": [
    {
     "data": {
      "text/plain": [
       "'Unreliable'"
      ]
     },
     "execution_count": 45,
     "metadata": {},
     "output_type": "execute_result"
    }
   ],
   "source": [
    "text = \"Marcus Rashford was on target again as Manchester United cruised into the quarter-finals of the Europa League with a clinical win at Real Betis After an open first half Rashford put United ahead in the 55th minute with a thunderous long-range effort dipping into the bottom corner\"\n",
    "model = 'model_cnn_fakenews'\n",
    "predict_reliability(text, model)"
   ]
  },
  {
   "cell_type": "code",
   "execution_count": 46,
   "metadata": {},
   "outputs": [
    {
     "data": {
      "text/plain": [
       "'Unreliable'"
      ]
     },
     "execution_count": 46,
     "metadata": {},
     "output_type": "execute_result"
    }
   ],
   "source": [
    "text = \"Marcus Rashford was on target again as Manchester United cruised into the quarter-finals of the Europa League with a clinical win at Real Betis After an open first half Rashford put United ahead in the 55th minute with a thunderous long-range effort dipping into the bottom corner\"\n",
    "model = 'model_7nn_fakenews'\n",
    "predict_reliability(text, model)"
   ]
  },
  {
   "cell_type": "code",
   "execution_count": 47,
   "metadata": {},
   "outputs": [
    {
     "data": {
      "text/plain": [
       "'Unreliable'"
      ]
     },
     "execution_count": 47,
     "metadata": {},
     "output_type": "execute_result"
    }
   ],
   "source": [
    "text = \"Marcus Rashford was on target again as Manchester United cruised into the quarter-finals of the Europa League with a clinical win at Real Betis After an open first half Rashford put United ahead in the 55th minute with a thunderous long-range effort dipping into the bottom corner\"\n",
    "model = 'model_3nn_fakenews'\n",
    "predict_reliability(text, model)"
   ]
  },
  {
   "cell_type": "code",
   "execution_count": 48,
   "metadata": {},
   "outputs": [
    {
     "data": {
      "text/plain": [
       "'Reliable'"
      ]
     },
     "execution_count": 48,
     "metadata": {},
     "output_type": "execute_result"
    }
   ],
   "source": [
    "text = \"Marcus Rashford was on target again as Manchester United cruised into the quarter-finals of the Europa League with a clinical win at Real Betis After an open first half Rashford put United ahead in the 55th minute with a thunderous long-range effort dipping into the bottom corner\"\n",
    "model = 'model_bayes_fakenews'\n",
    "predict_reliability(text, model)"
   ]
  }
 ],
 "metadata": {
  "kernelspec": {
   "display_name": "base",
   "language": "python",
   "name": "python3"
  },
  "language_info": {
   "codemirror_mode": {
    "name": "ipython",
    "version": 3
   },
   "file_extension": ".py",
   "mimetype": "text/x-python",
   "name": "python",
   "nbconvert_exporter": "python",
   "pygments_lexer": "ipython3",
   "version": "3.8.16"
  },
  "orig_nbformat": 4
 },
 "nbformat": 4,
 "nbformat_minor": 2
}
